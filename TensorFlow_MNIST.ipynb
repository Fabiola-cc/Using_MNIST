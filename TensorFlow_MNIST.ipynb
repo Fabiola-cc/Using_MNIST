{
 "cells": [
  {
   "cell_type": "markdown",
   "metadata": {},
   "source": [
    "# Red Neuronal Profunda (DNN) para clasificación MNIST\n",
    "\n",
    "Aplicaremos todos nuestros conocimientos para crear una DNN, frecuentemente llamada también una Artificial Neural Network (ANN).  El problema que vamos a trabajar se conoce como el \"Hola Mundo\" del aprendizaje profundo porque para la mayoría de estudiantes este es el primer algoritmo de aprendizaje profundo que ven. \n",
    "\n",
    "El conjunto de datos se llama MNIST y se refiere al reconocimiento de dígitos escritos a mano.  Pueden encontrar más información en el sitio web de Yann LeCun (Director of AI Research, Facebook).  El es uno de los pioneros de todo este tema, así como de otras metodologías más complejas como las Redes Neurales Convolucionales (CNN) que se utilizan hoy día.\n",
    "\n",
    "El conjunto de datos tiene 70,000 imágenes (28x28 pixels) de dígitos escritos a mano (1 dígito por imagen).\n",
    "\n",
    "La meta es escribir un algoritmo que detecta qué dígito ha sido escrito.  Como solo hay 10 dígitos (0 al 9), este es un problema de clasificación con 10 clases.\n",
    "\n",
    "Nuestra meta será construir una RN con 2 capas escondidas."
   ]
  },
  {
   "cell_type": "markdown",
   "metadata": {},
   "source": [
    "## Plan de Acción para preparar el modelo\n",
    "\n",
    "1.  Preparar los datos y preprocesarlos.  Crear los conjuntos de datos para entrenar, validar y probar\n",
    "2.  Crear un esboso del modelo y seleccionar las funciones de activación\n",
    "3.  Fijar los optimizadores avanzados y la función de pérdida\n",
    "4.  Hacer que el modelo aprenda\n",
    "5.  Probar la exactitud (\"accuracy\") del modelo"
   ]
  },
  {
   "cell_type": "markdown",
   "metadata": {},
   "source": [
    "## Importar los paquetes relevantes\n",
    "\n",
    "TensorFlow incluye un proveedor de los datos de MNIST que utilizaremos acá.  Viene con el módulo **\"tensorflow.keras.datasets\"**. "
   ]
  },
  {
   "cell_type": "code",
   "execution_count": 2,
   "metadata": {
    "tags": []
   },
   "outputs": [],
   "source": [
    "import numpy as np\n",
    "import tensorflow as tf"
   ]
  },
  {
   "cell_type": "markdown",
   "metadata": {},
   "source": [
    "La siguiente instrucción, cuando se corre por primera vez, descarga el conjunto de datos en lo indicado por el parámetro path, relativo a  ~/.keras/datasets).  Como si se hubiera ejecutado Lo siguiente:\n",
    "\n",
    "tf.keras.datasets.mnist.load_data(\n",
    "    path = 'mnist.npz'\n",
    ")\n",
    "\n",
    "luego separa los datos en un conjunto para entrenamiento y otro para pruebas.\n",
    "\n",
    "Si se ejecuta más de una vez, ya no descarga el archivo."
   ]
  },
  {
   "cell_type": "code",
   "execution_count": 3,
   "metadata": {},
   "outputs": [],
   "source": [
    "(X_entreno, y_entreno), (X_prueba, y_prueba) = tf.keras.datasets.mnist.load_data()\n"
   ]
  },
  {
   "cell_type": "code",
   "execution_count": 4,
   "metadata": {},
   "outputs": [
    {
     "data": {
      "text/plain": [
       "array([[[0, 0, 0, ..., 0, 0, 0],\n",
       "        [0, 0, 0, ..., 0, 0, 0],\n",
       "        [0, 0, 0, ..., 0, 0, 0],\n",
       "        ...,\n",
       "        [0, 0, 0, ..., 0, 0, 0],\n",
       "        [0, 0, 0, ..., 0, 0, 0],\n",
       "        [0, 0, 0, ..., 0, 0, 0]],\n",
       "\n",
       "       [[0, 0, 0, ..., 0, 0, 0],\n",
       "        [0, 0, 0, ..., 0, 0, 0],\n",
       "        [0, 0, 0, ..., 0, 0, 0],\n",
       "        ...,\n",
       "        [0, 0, 0, ..., 0, 0, 0],\n",
       "        [0, 0, 0, ..., 0, 0, 0],\n",
       "        [0, 0, 0, ..., 0, 0, 0]],\n",
       "\n",
       "       [[0, 0, 0, ..., 0, 0, 0],\n",
       "        [0, 0, 0, ..., 0, 0, 0],\n",
       "        [0, 0, 0, ..., 0, 0, 0],\n",
       "        ...,\n",
       "        [0, 0, 0, ..., 0, 0, 0],\n",
       "        [0, 0, 0, ..., 0, 0, 0],\n",
       "        [0, 0, 0, ..., 0, 0, 0]],\n",
       "\n",
       "       ...,\n",
       "\n",
       "       [[0, 0, 0, ..., 0, 0, 0],\n",
       "        [0, 0, 0, ..., 0, 0, 0],\n",
       "        [0, 0, 0, ..., 0, 0, 0],\n",
       "        ...,\n",
       "        [0, 0, 0, ..., 0, 0, 0],\n",
       "        [0, 0, 0, ..., 0, 0, 0],\n",
       "        [0, 0, 0, ..., 0, 0, 0]],\n",
       "\n",
       "       [[0, 0, 0, ..., 0, 0, 0],\n",
       "        [0, 0, 0, ..., 0, 0, 0],\n",
       "        [0, 0, 0, ..., 0, 0, 0],\n",
       "        ...,\n",
       "        [0, 0, 0, ..., 0, 0, 0],\n",
       "        [0, 0, 0, ..., 0, 0, 0],\n",
       "        [0, 0, 0, ..., 0, 0, 0]],\n",
       "\n",
       "       [[0, 0, 0, ..., 0, 0, 0],\n",
       "        [0, 0, 0, ..., 0, 0, 0],\n",
       "        [0, 0, 0, ..., 0, 0, 0],\n",
       "        ...,\n",
       "        [0, 0, 0, ..., 0, 0, 0],\n",
       "        [0, 0, 0, ..., 0, 0, 0],\n",
       "        [0, 0, 0, ..., 0, 0, 0]]], dtype=uint8)"
      ]
     },
     "execution_count": 4,
     "metadata": {},
     "output_type": "execute_result"
    }
   ],
   "source": [
    "X_entreno"
   ]
  },
  {
   "cell_type": "raw",
   "metadata": {},
   "source": [
    "X_entreno.shape"
   ]
  },
  {
   "cell_type": "markdown",
   "metadata": {},
   "source": [
    "Como no podemos ver la forma de los conjuntos...les queda de tarea averiguar por qué no...podemos utilizar la instrucción **assert**"
   ]
  },
  {
   "cell_type": "code",
   "execution_count": 5,
   "metadata": {},
   "outputs": [],
   "source": [
    "assert X_entreno.shape == (60000, 28, 28)\n",
    "assert X_prueba.shape == (10000, 28, 28)\n",
    "assert y_entreno.shape == (60000,)\n",
    "assert y_prueba.shape == (10000,)"
   ]
  },
  {
   "cell_type": "markdown",
   "metadata": {},
   "source": [
    "## Datos\n",
    "\n",
    "Esta sección es donde pre-procesaremos nuestros datos."
   ]
  },
  {
   "cell_type": "markdown",
   "metadata": {},
   "source": [
    "Por default, TF2 tiene conjuntos de datos de entrenamiento y de prueba, pero no tiene un conjunto de validación, por lo que debemos dividirlo por nuestra cuenta\n",
    "\n",
    "Lo haremos del mismo tamaño que el conjunto de prueba"
   ]
  },
  {
   "cell_type": "code",
   "execution_count": 6,
   "metadata": {},
   "outputs": [],
   "source": [
    "num_obs_validacion = y_prueba.shape[0]"
   ]
  },
  {
   "cell_type": "markdown",
   "metadata": {},
   "source": [
    "Usaremos una variable dedicada para el número de observaciones de prueba"
   ]
  },
  {
   "cell_type": "code",
   "execution_count": 7,
   "metadata": {},
   "outputs": [],
   "source": [
    "num_obs_prueba = y_prueba.shape[0]"
   ]
  },
  {
   "cell_type": "markdown",
   "metadata": {},
   "source": [
    "Generalmente preferimos \"normalizar\" nuestros datos en alguna forma para que el resultado sea numéricamente más estable.  En este caso simplemente preferimos tener entradas entre 0 y 1, por lo que definimos una función, que reciba la imagen MNIST.\n",
    "\n",
    "Como los posibles valores de las entradas son entre 0 y 255 (256 posibles tonos de gris), al dividirlos por 255 obtenemos el resultado deseado."
   ]
  },
  {
   "cell_type": "code",
   "execution_count": 8,
   "metadata": {
    "tags": []
   },
   "outputs": [],
   "source": [
    "X_entreno_normalizado = X_entreno / 255"
   ]
  },
  {
   "cell_type": "markdown",
   "metadata": {},
   "source": [
    "Finalmente, normalizaremos y convertiremos los datos de pruebas en tandas.  Los normalizamos para que tengan la misma magnitud que los datos de entrenamiento y validación.\n",
    "\n",
    "No hay necesidad de \"barajearlo\" ya que no estaremos entrenando con los datos de prueba.  Habra una sola tanda, igual al tamaño de los datos de prueba."
   ]
  },
  {
   "cell_type": "code",
   "execution_count": 9,
   "metadata": {},
   "outputs": [],
   "source": [
    "X_prueba_normalizado = X_prueba / 255"
   ]
  },
  {
   "cell_type": "markdown",
   "metadata": {},
   "source": [
    "Una vez se han \"normalizado\" los datos, podemos proceder a extraer los datos de entrenamiento y de validación.\n",
    "\n",
    "Nuestros datos de validación serán 10000 para ser igual al conjunto de prueba.\n",
    "\n",
    "Finalmente, creamos una tanda con un tamaño de tanda igual al total de muestras de validación."
   ]
  },
  {
   "cell_type": "code",
   "execution_count": 10,
   "metadata": {},
   "outputs": [],
   "source": [
    "X_validacion = X_entreno_normalizado[-num_obs_validacion: , : , : ]\n",
    "y_validacion = y_entreno[-num_obs_validacion:]"
   ]
  },
  {
   "cell_type": "markdown",
   "metadata": {},
   "source": [
    "Similarmente, los datos de entrenamiento son todos los demás por lo que nos salteamos tantas observaciones como las hay en el conjunto de validación."
   ]
  },
  {
   "cell_type": "code",
   "execution_count": 11,
   "metadata": {},
   "outputs": [],
   "source": [
    "X_entreno = X_entreno_normalizado[ : X_entreno_normalizado.shape[0] - num_obs_validacion, : , : ]\n",
    "y_entreno = y_entreno[ : y_entreno.shape[0] - num_obs_validacion]\n",
    "num_obs_entreno = y_entreno.shape[0]"
   ]
  },
  {
   "cell_type": "markdown",
   "metadata": {},
   "source": [
    "Convertir de Arreglos Numpy a Tensores"
   ]
  },
  {
   "cell_type": "code",
   "execution_count": 12,
   "metadata": {},
   "outputs": [],
   "source": [
    "datos_entreno = tf.data.Dataset.from_tensor_slices((X_entreno, y_entreno))\n",
    "datos_validacion = tf.data.Dataset.from_tensor_slices((X_validacion, y_validacion))\n",
    "datos_prueba = tf.data.Dataset.from_tensor_slices((X_prueba, y_prueba))"
   ]
  },
  {
   "cell_type": "markdown",
   "metadata": {},
   "source": [
    "Barajear y hacer tandas con el conjunto de datos de entrenamiento"
   ]
  },
  {
   "cell_type": "code",
   "execution_count": 13,
   "metadata": {},
   "outputs": [],
   "source": [
    "TAMANIO_TANDA = 100\n",
    "datos_entreno = datos_entreno.shuffle(buffer_size = num_obs_entreno).batch(TAMANIO_TANDA)"
   ]
  },
  {
   "cell_type": "markdown",
   "metadata": {},
   "source": [
    "Hacer tandas con los conjuntos de validación y prueba, no se necesita barajearlos"
   ]
  },
  {
   "cell_type": "code",
   "execution_count": 14,
   "metadata": {},
   "outputs": [],
   "source": [
    "datos_validacion = datos_validacion.batch(TAMANIO_TANDA)\n",
    "datos_prueba = datos_prueba.batch(TAMANIO_TANDA)"
   ]
  },
  {
   "cell_type": "markdown",
   "metadata": {},
   "source": [
    "## Modelo"
   ]
  },
  {
   "cell_type": "markdown",
   "metadata": {},
   "source": [
    "### Delineamos el modelo\n",
    "\n",
    "Cuando pensamos sobre un algoritmo de aprendizaje profundo, casi siempre imaginamos la realización del mismo.  Asi que esta vez, hagámoslo.  :)"
   ]
  },
  {
   "cell_type": "code",
   "execution_count": 15,
   "metadata": {
    "tags": []
   },
   "outputs": [],
   "source": [
    "tamanio_entrada = 784\n",
    "tamanio_salida = 10"
   ]
  },
  {
   "cell_type": "markdown",
   "metadata": {},
   "source": [
    "Usaremos el mismo ancho para ambas capas escondidas.  (No es una necesidad!)"
   ]
  },
  {
   "cell_type": "code",
   "execution_count": 16,
   "metadata": {},
   "outputs": [],
   "source": [
    "tamanio_capa_escondida = 50"
   ]
  },
  {
   "cell_type": "markdown",
   "metadata": {},
   "source": [
    "# Modelo original\n",
    "\n",
    "La primera capa (la de entrada):  cada observación es de 28x28 píxeles, por lo tanto es un tensor de rango 2.\n",
    "\n",
    "Como aún no hemos aprendido sobre CNNs, no sabemos como alimentar este tipo de entrada a nuestra red, por lo tanto hay que \"aplanar\" las imágenes.  Hay un método conveniente **Flatten** que toma nuestro tensor de 28x28 y lo convierte en  un vector (None,) o (784,)...porque 28x28 = 784.  Esto nos permite crear una red de alimentación hacia adelante.\n",
    "\n",
    "    \n",
    "**tf.keras.layers.Dense** básicamente implementa:  *salida = activation(dot(entrada, peso) + sesgo)*.  Requiere varios argumentos, pero los más importantes para nosotros son el ancho de la capa escondida y la función de activación.\n",
    "\n",
    "La capa final no es diferente, solo nos aseguramos de activarla con **softmax**\n"
   ]
  },
  {
   "cell_type": "code",
   "execution_count": 17,
   "metadata": {},
   "outputs": [
    {
     "name": "stderr",
     "output_type": "stream",
     "text": [
      "c:\\Users\\villa\\Desktop\\Clases_S8\\4.Data Science\\3.Laboratorio2_Redes_Neuronales_MNIST\\Using_MNIST\\.venv\\Lib\\site-packages\\keras\\src\\layers\\reshaping\\flatten.py:37: UserWarning: Do not pass an `input_shape`/`input_dim` argument to a layer. When using Sequential models, prefer using an `Input(shape)` object as the first layer in the model instead.\n",
      "  super().__init__(**kwargs)\n"
     ]
    }
   ],
   "source": [
    "modelo = tf.keras.Sequential([\n",
    "\n",
    "    tf.keras.layers.Flatten(input_shape=(28, 28)), # capa entrada\n",
    "    \n",
    "    tf.keras.layers.Dense(tamanio_capa_escondida, activation='relu'), # 1era capa escondida\n",
    "    tf.keras.layers.Dense(tamanio_capa_escondida, activation='relu'), # 2nda capa escondida\n",
    "\n",
    "    tf.keras.layers.Dense(tamanio_salida, activation='softmax') # capa salida\n",
    "])"
   ]
  },
  {
   "cell_type": "markdown",
   "metadata": {},
   "source": [
    "### Seleccionar el optimizador y la función de pérdida"
   ]
  },
  {
   "cell_type": "markdown",
   "metadata": {
    "tags": []
   },
   "source": [
    "Definimos el optimizador que nos gustaría utilizar, la función de pérdida, y las métricas que nos interesa obtener en cada interacción"
   ]
  },
  {
   "cell_type": "code",
   "execution_count": 18,
   "metadata": {},
   "outputs": [],
   "source": [
    "modelo.compile(optimizer='adam', loss='sparse_categorical_crossentropy', metrics=['accuracy'])"
   ]
  },
  {
   "cell_type": "markdown",
   "metadata": {},
   "source": [
    "### Entrenamiento\n",
    "\n",
    "Acá es donde entrenamos el modelo que hemos construído\n",
    "\n",
    "Determinamos el número máximo de épocas.\n",
    "\n",
    "Ajustamos el modelo , especificando:\n",
    "\n",
    "* los datos de entrenamiento\n",
    "* el número total de épocas\n",
    "* y los datos de validación que creamos en el formato (entradas, metas)"
   ]
  },
  {
   "cell_type": "code",
   "execution_count": 19,
   "metadata": {},
   "outputs": [
    {
     "name": "stdout",
     "output_type": "stream",
     "text": [
      "Epoch 1/5\n",
      "500/500 - 2s - 3ms/step - accuracy: 0.8771 - loss: 0.4325 - val_accuracy: 0.9386 - val_loss: 0.2216\n",
      "Epoch 2/5\n",
      "500/500 - 1s - 2ms/step - accuracy: 0.9414 - loss: 0.2017 - val_accuracy: 0.9530 - val_loss: 0.1677\n",
      "Epoch 3/5\n",
      "500/500 - 1s - 2ms/step - accuracy: 0.9550 - loss: 0.1523 - val_accuracy: 0.9590 - val_loss: 0.1428\n",
      "Epoch 4/5\n",
      "500/500 - 1s - 2ms/step - accuracy: 0.9639 - loss: 0.1215 - val_accuracy: 0.9631 - val_loss: 0.1318\n",
      "Epoch 5/5\n",
      "500/500 - 1s - 2ms/step - accuracy: 0.9691 - loss: 0.1031 - val_accuracy: 0.9648 - val_loss: 0.1179\n"
     ]
    },
    {
     "data": {
      "text/plain": [
       "<keras.src.callbacks.history.History at 0x192615e5280>"
      ]
     },
     "execution_count": 19,
     "metadata": {},
     "output_type": "execute_result"
    }
   ],
   "source": [
    "NUMERO_EPOCAS = 5\n",
    "\n",
    "modelo.fit(datos_entreno,\n",
    "          epochs = NUMERO_EPOCAS, \n",
    "          validation_data = datos_validacion,\n",
    "          verbose = 2)"
   ]
  },
  {
   "cell_type": "markdown",
   "metadata": {},
   "source": [
    "## Probar el modelo\n",
    "\n",
    "Como se discutió en clase, luego del entrenamiento (con los datos de entrenamiento), y la validación (con los datos de validación), probamos el potencial de predicción final de nuestro modelo con el conjunto de datos de prueba que el algoritmo NUNCA ha visto antes.\n",
    "\n",
    "Es muy importante reconocer que estar \"jugando\" con los hiperparámetros sobre-ajusta el conjunto de datos de validación.\n",
    "\n",
    "La prueba es la instancia absolutamente final. **NUNCA** debe probarse el modelo antes de haber completamente ajustado el mismo.\n",
    "\n",
    "Si se ajusta el modelo después de hacer la prueba, se empezará a sobre-ajustar el conjunto de datos de prueba, que echaría \"por los suelos\" el propósito original del mismo."
   ]
  },
  {
   "cell_type": "code",
   "execution_count": 20,
   "metadata": {},
   "outputs": [
    {
     "name": "stdout",
     "output_type": "stream",
     "text": [
      "\u001b[1m100/100\u001b[0m \u001b[32m━━━━━━━━━━━━━━━━━━━━\u001b[0m\u001b[37m\u001b[0m \u001b[1m0s\u001b[0m 1ms/step - accuracy: 0.9631 - loss: 18.5471\n"
     ]
    }
   ],
   "source": [
    "perdida_prueba, precision_prueba = modelo.evaluate(datos_prueba)"
   ]
  },
  {
   "cell_type": "code",
   "execution_count": 21,
   "metadata": {},
   "outputs": [
    {
     "name": "stdout",
     "output_type": "stream",
     "text": [
      "Pérdida de prueba: 18.55. Precisión de prueba: 96.31%\n"
     ]
    }
   ],
   "source": [
    "# Si se desea, se puede aplicar un formateo \"bonito\"\n",
    "print('Pérdida de prueba: {0:.2f}. Precisión de prueba: {1:.2f}%'.format(perdida_prueba, precision_prueba * 100.))"
   ]
  },
  {
   "cell_type": "markdown",
   "metadata": {},
   "source": [
    "Utilizando el modelo inicial y los hiperparámetros dados en este notebook, la precisión de prueba final debe ser aproximadamente 97%.\n",
    "\n",
    "Cada vez que se ejecuta el código, se obtiene una precisión diferente debido a la \"barajeada\" de las tandas, los pesos se inicializan en forma diferente, etc.\n",
    "\n",
    "Finalmente, intencionalmente se ha llegado a una solución subóptima, para que puedan tener la oportunidad de mejorarla como ejercicio de laboratorio."
   ]
  },
  {
   "cell_type": "code",
   "execution_count": 22,
   "metadata": {},
   "outputs": [],
   "source": [
    "import time\n"
   ]
  },
  {
   "cell_type": "markdown",
   "metadata": {},
   "source": [
    "# Experimentación\n",
    "## Paso a paso para mejorar el modelo "
   ]
  },
  {
   "cell_type": "markdown",
   "metadata": {},
   "source": [
    "## Modificación del Ancho de la Red"
   ]
  },
  {
   "cell_type": "code",
   "execution_count": 86,
   "metadata": {},
   "outputs": [
    {
     "name": "stdout",
     "output_type": "stream",
     "text": [
      "50 neuronas: Accuracy validación: 0.9690 - Tiempo: 4.66s\n",
      "100 neuronas: Accuracy validación: 0.9738 - Tiempo: 4.74s\n",
      "200 neuronas: Accuracy validación: 0.9761 - Tiempo: 16.58s\n",
      "300 neuronas: Accuracy validación: 0.9788 - Tiempo: 13.97s\n",
      "500 neuronas: Accuracy validación: 0.9761 - Tiempo: 12.03s\n"
     ]
    }
   ],
   "source": [
    "import time\n",
    "from tensorflow.keras.models import Sequential\n",
    "from tensorflow.keras.layers import Dense, Flatten\n",
    "\n",
    "def build_and_train_model(hidden_units):\n",
    "    model = tf.keras.Sequential([\n",
    "\n",
    "        tf.keras.layers.Flatten(input_shape=(28, 28)), # capa entrada\n",
    "        \n",
    "        tf.keras.layers.Dense(hidden_units, activation='relu'), # 1era capa escondida\n",
    "        tf.keras.layers.Dense(hidden_units, activation='relu'), # 2nda capa escondida\n",
    "\n",
    "        tf.keras.layers.Dense(tamanio_salida, activation='softmax') # capa salida\n",
    "    ])\n",
    "\n",
    "    model.compile(optimizer='adam', loss='sparse_categorical_crossentropy', metrics=['accuracy'])\n",
    "\n",
    "    start_time = time.time()\n",
    "    history = model.fit(datos_entreno, validation_data = datos_validacion, epochs=5, verbose=0)\n",
    "    duration = time.time() - start_time\n",
    "\n",
    "    val_accuracy = history.history['val_accuracy'][-1]\n",
    "    test_loss, test_accuracy = model.evaluate(datos_prueba, verbose=0)\n",
    "    \n",
    "    print(f\"{hidden_units} neuronas: Accuracy validación: {val_accuracy:.4f} - Tiempo: {duration:.2f}s\")\n",
    "    return hidden_units, val_accuracy, test_accuracy, duration, test_loss\n",
    "\n",
    "# Resultados del experimento de ancho\n",
    "results_width = []\n",
    "\n",
    "# Tamaños de capa escondida\n",
    "sizes = [50, 100, 200, 300, 500]\n",
    "\n",
    "# Obtención de resultados\n",
    "best_result_ms = None\n",
    "best_val_acc = -1\n",
    "for size in sizes:\n",
    "    result = build_and_train_model(size)\n",
    "    results_width.append(result)\n",
    "    if result[1] > best_val_acc:\n",
    "        best_val_acc = result[1]\n",
    "        best_result_ms = result"
   ]
  },
  {
   "cell_type": "code",
   "execution_count": 87,
   "metadata": {},
   "outputs": [
    {
     "data": {
      "image/png": "[encoded data removed]",
      "text/plain": [
       "<Figure size 1400x500 with 2 Axes>"
      ]
     },
     "metadata": {},
     "output_type": "display_data"
    }
   ],
   "source": [
    "import numpy as np\n",
    "import matplotlib.pyplot as plt\n",
    "\n",
    "# Separar resultados\n",
    "sizes, val_accuracies, test_accuracies, times, loss = zip(*results_width)\n",
    "\n",
    "# Posiciones para las barras\n",
    "x = np.arange(len(sizes))\n",
    "width = 0.35  # ancho de cada barra\n",
    "\n",
    "# Crear figura con 2 subplots\n",
    "fig, axs = plt.subplots(1, 2, figsize=(14, 5))\n",
    "\n",
    "# --- Subplot 1: Accuracy de Validación y Prueba ---\n",
    "axs[0].bar(x - width/2, val_accuracies, width, label='Validación', color='skyblue')\n",
    "axs[0].bar(x + width/2, test_accuracies, width, label='Prueba', color='orange')\n",
    "\n",
    "axs[0].set_xlabel(\"Tamaño de la Capa Oculta\")\n",
    "axs[0].set_ylabel(\"Accuracy\")\n",
    "axs[0].set_title(\"Accuracy de Validación y Prueba\")\n",
    "axs[0].set_xticks(x)\n",
    "axs[0].set_xticklabels(sizes)\n",
    "axs[0].legend()\n",
    "axs[0].grid(axis='y', linestyle='--', alpha=0.6)\n",
    "\n",
    "# --- Subplot 2: Tiempo de Entrenamiento ---\n",
    "axs[1].plot(sizes, times, marker='o', color='red')\n",
    "axs[1].set_title(\"Tiempo de Entrenamiento (s)\")\n",
    "axs[1].set_xlabel(\"Tamaño de la Capa Oculta\")\n",
    "axs[1].set_ylabel(\"Segundos\")\n",
    "axs[1].grid(True, linestyle='--', alpha=0.6)\n",
    "\n",
    "# Ajustar diseño\n",
    "plt.tight_layout()\n",
    "plt.show()\n"
   ]
  },
  {
   "cell_type": "markdown",
   "metadata": {},
   "source": [
    "#### Para la capa de 200 neuronas"
   ]
  },
  {
   "cell_type": "code",
   "execution_count": 88,
   "metadata": {},
   "outputs": [
    {
     "name": "stdout",
     "output_type": "stream",
     "text": [
      "¿Cómo cambia la precisión de validación del modelo?\n",
      "\tEl modelo mejora de 0.9653 a 0.9746\n",
      "¿Cuánto tiempo tarda el algoritmo en entrenar?\n",
      "\tEl modelo tardó: 16.58s\n"
     ]
    }
   ],
   "source": [
    "print(\"¿Cómo cambia la precisión de validación del modelo?\")\n",
    "print(f\"\\tEl modelo mejora de {precision_prueba:.4f} a {results_width[2][2]:.4f}\")\n",
    "print(\"¿Cuánto tiempo tarda el algoritmo en entrenar?\")\n",
    "print(f\"\\tEl modelo tardó: {results_width[2][3]:.2f}s\")"
   ]
  },
  {
   "cell_type": "markdown",
   "metadata": {},
   "source": [
    "#### Comparación de tamaños:\n",
    "En general, la modificación de la profundidad de las capas trae una gran mejora al modelo. Aunque también añade complejidad y tiempo de ejecución.\n",
    "La siguiente impresión muestra el modelo con el mejor rendimiento"
   ]
  },
  {
   "cell_type": "code",
   "execution_count": 89,
   "metadata": {},
   "outputs": [
    {
     "name": "stdout",
     "output_type": "stream",
     "text": [
      "\n",
      "✅ Mejor configuración: 300 neuronas - Accuracy validación: 0.9788 - Accuracy test: 0.9793 - Tiempo: 13.97s\n"
     ]
    }
   ],
   "source": [
    "print(f\"\\n✅ Mejor configuración: {best_result_ms[0]} neuronas - Accuracy validación: {best_result_ms[1]:.4f} - Accuracy test: {best_result_ms[2]:.4f} - Tiempo: {best_result_ms[3]:.2f}s\")"
   ]
  },
  {
   "cell_type": "markdown",
   "metadata": {},
   "source": [
    "## Modificación de la Profundidad de la Red"
   ]
  },
  {
   "cell_type": "code",
   "execution_count": 90,
   "metadata": {},
   "outputs": [
    {
     "name": "stderr",
     "output_type": "stream",
     "text": [
      "c:\\Users\\villa\\Desktop\\Clases_S8\\4.Data Science\\3.Laboratorio2_Redes_Neuronales_MNIST\\Using_MNIST\\.venv\\Lib\\site-packages\\keras\\src\\layers\\reshaping\\flatten.py:37: UserWarning: Do not pass an `input_shape`/`input_dim` argument to a layer. When using Sequential models, prefer using an `Input(shape)` object as the first layer in the model instead.\n",
      "  super().__init__(**kwargs)\n"
     ]
    },
    {
     "name": "stdout",
     "output_type": "stream",
     "text": [
      "Modelo con 3 capas escondidas - Accuracy validación: 0.9716 - Accuracy prueba: 0.9716 - Tiempo: 9.81s\n"
     ]
    }
   ],
   "source": [
    "hidden_size = best_result_ms[0]\n",
    "model = tf.keras.Sequential([\n",
    "    tf.keras.layers.Flatten(input_shape=(28, 28)), # capa entrada\n",
    "    \n",
    "    tf.keras.layers.Dense(hidden_size, activation='relu'), # 1era capa escondida\n",
    "    tf.keras.layers.Dense(hidden_size, activation='relu'), # 2nda capa escondida\n",
    "    tf.keras.layers.Dense(hidden_size, activation='relu'), # capa escondida adicional\n",
    "\n",
    "    tf.keras.layers.Dense(tamanio_salida, activation='softmax') # capa salida\n",
    "])\n",
    "\n",
    "model.compile(optimizer='adam', loss='sparse_categorical_crossentropy', metrics=['accuracy'])\n",
    "\n",
    "start_time = time.time()\n",
    "history = model.fit(datos_entreno, validation_data = datos_validacion, epochs=5, verbose=0)\n",
    "duration = time.time() - start_time\n",
    "\n",
    "val_accuracy = history.history['val_accuracy'][-1]\n",
    "test_loss, test_accuracy = model.evaluate(datos_prueba, verbose=0)\n",
    "\n",
    "result_three = [val_accuracy, test_accuracy, duration, test_loss]\n",
    "print(f\"Modelo con 3 capas escondidas - Accuracy validación: {val_accuracy:.4f} - Accuracy prueba: {test_accuracy:.4f} - Tiempo: {duration:.2f}s\")"
   ]
  },
  {
   "cell_type": "markdown",
   "metadata": {},
   "source": [
    "#### Dimensión de los pesos y sesgos\n",
    "El modelo con 3 capas escondidas incluye **una capa adicional `Dense`** con la misma cantidad de neuronas (`best_result`). Esto incrementa el número total de parámetros entrenables.\n",
    "\n",
    "* Cada capa Dense tiene pesos de forma `(entrada, salida)` y un sesgo por cada neurona de salida.\n",
    "* Esto aumenta la **capacidad del modelo** para aprender representaciones más complejas, pero también incrementa el costo computacional.\n",
    "* La siguiente impresión muestra los pesos y sesgos"
   ]
  },
  {
   "cell_type": "code",
   "execution_count": 91,
   "metadata": {},
   "outputs": [
    {
     "name": "stdout",
     "output_type": "stream",
     "text": [
      "flatten_28:\n",
      "dense_84:\n",
      "(784, 300)\n",
      "(300,)\n",
      "dense_85:\n",
      "(300, 300)\n",
      "(300,)\n",
      "dense_86:\n",
      "(300, 300)\n",
      "(300,)\n",
      "dense_87:\n",
      "(300, 10)\n",
      "(10,)\n"
     ]
    }
   ],
   "source": [
    "for layer in model.layers:\n",
    "    print(f\"{layer.name}:\")\n",
    "    for weight in layer.get_weights():\n",
    "        print(weight.shape)"
   ]
  },
  {
   "cell_type": "markdown",
   "metadata": {},
   "source": [
    "#### Precisión de validación\n",
    "\n",
    "* Modelo original: **val\\_accuracy = 0.9628**\n",
    "* Modelo con 3 capas: **val\\_accuracy = 0.9790**\n",
    "\n",
    "El modelo con tres capas obtuvo una mejora en la precisión de validación (\\~1.6 puntos porcentuales), lo que sugiere que la capa adicional ayudó a mejorar la generalización sobre el conjunto de validación.\n",
    "\n",
    "También se observa una mejora en la precisión de prueba, lo cual indica que el modelo mantiene buen rendimiento en datos no vistos.\n",
    "\n",
    "#### Impacto en el tiempo de ejecución\n",
    "\n",
    "* Modelo original: aunque no se registro muestra <0.3s\n",
    "* Modelo con 3 capas: **16.31 segundos**\n",
    "\n",
    "El tiempo de entrenamiento aumentó, como es esperado, por el mayor número de parámetros. Sin embargo, la mejora en rendimiento podría justificar este costo adicional si el tiempo sigue siendo razonable para el caso de uso.\n",
    "\n",
    "#### Cambios en el código\n",
    "\n",
    "Para modificar el modelo de 2 a 3 capas escondidas, se agregó una capa `Dense` intermedia:\n",
    "\n",
    "```python\n",
    "model = tf.keras.Sequential([\n",
    "    tf.keras.layers.Flatten(input_shape=(28, 28)),  # capa entrada\n",
    "    \n",
    "    tf.keras.layers.Dense(best_result, activation='relu'),  # 1era capa escondida\n",
    "    tf.keras.layers.Dense(best_result, activation='relu'),  # 2da capa escondida\n",
    "    tf.keras.layers.Dense(best_result, activation='relu'),  # NUEVA: 3era capa escondida\n",
    "\n",
    "    tf.keras.layers.Dense(tamanio_salida, activation='softmax')  # capa salida\n",
    "])\n",
    "```\n",
    "\n",
    "No requiere modificar la compilación ni el entrenamiento del modelo, pero es recomendable volver a revisar la regularización (dropout o L2) si el número de capas sigue aumentando, para evitar overfitting."
   ]
  },
  {
   "cell_type": "markdown",
   "metadata": {},
   "source": [
    "## Redes Profundas"
   ]
  },
  {
   "cell_type": "code",
   "execution_count": 92,
   "metadata": {},
   "outputs": [
    {
     "name": "stdout",
     "output_type": "stream",
     "text": [
      "Capas: 1 - Arquitectura: [300] - Accuracy validación: 0.9757 - Tiempo: 6.11s\n",
      "Capas: 2 - Arquitectura: [200, 100] - Accuracy validación: 0.9757 - Tiempo: 6.33s\n",
      "Capas: 3 - Arquitectura: [300, 200, 100] - Accuracy validación: 0.9731 - Tiempo: 8.03s\n",
      "Capas: 4 - Arquitectura: [500, 250, 100, 50] - Accuracy validación: 0.9739 - Tiempo: 12.47s\n",
      "Capas: 5 - Arquitectura: [500, 350, 250, 100, 50] - Accuracy validación: 0.9721 - Tiempo: 15.61s\n",
      "\n",
      "✅ Mejor configuración: 1 neuronas - Accuracy validación: 0.9757 - Accuracy test: 0.9777 - Tiempo: 6.11s\n"
     ]
    }
   ],
   "source": [
    "def build_very_deep_model(units_per_layer):\n",
    "    model = Sequential([Flatten(input_shape=(28, 28))])\n",
    "    for units in units_per_layer:\n",
    "        model.add(Dense(units, activation='relu'))\n",
    "    model.add(Dense(10, activation='softmax'))\n",
    "    model.compile(optimizer='adam', loss='sparse_categorical_crossentropy', metrics=['accuracy'])\n",
    "\n",
    "    start_time = time.time()\n",
    "    history = model.fit(datos_entreno, validation_data=datos_validacion, epochs=5, verbose=0)\n",
    "    duration = time.time() - start_time\n",
    "    val_accuracy = history.history['val_accuracy'][-1]\n",
    "\n",
    "    test_loss, test_accuracy = model.evaluate(datos_prueba, verbose=0)\n",
    "\n",
    "    print(f\"Capas: {len(units_per_layer)} - Arquitectura: {units_per_layer} - Accuracy validación: {val_accuracy:.4f} - Tiempo: {duration:.2f}s\")\n",
    "    return len(units_per_layer), val_accuracy, test_accuracy, duration, test_loss\n",
    "\n",
    "architectures = [\n",
    "    [hidden_size],\n",
    "    [200, 100],\n",
    "    [300, 200, 100],\n",
    "    [500, 250, 100, 50],\n",
    "    [500, 350, 250, 100, 50]\n",
    "]\n",
    "\n",
    "# Obtención de resultados\n",
    "best_result_deep = None\n",
    "best_val_acc = -1\n",
    "for arch in architectures:\n",
    "    result = build_very_deep_model(arch)\n",
    "    results_width.append(result)\n",
    "    if result[1] > best_val_acc:\n",
    "        best_val_acc = result[1]\n",
    "        best_result_deep = result\n",
    "print(f\"\\n✅ Mejor configuración: {best_result_deep[0]} neuronas - Accuracy validación: {best_result_deep[1]:.4f} - Accuracy test: {best_result_deep[2]:.4f} - Tiempo: {best_result_deep[3]:.2f}s\")"
   ]
  },
  {
   "cell_type": "markdown",
   "metadata": {},
   "source": [
    "#### Precisión de validación por configuración\n",
    "\n",
    "* Curiosamente, agregar más capas no garantiza mejor precisión. A partir de 4 capas, se observó una ligera degradación del desempeño.\n",
    "* Esto sugiere que para este problema (MNIST), una profundidad moderada es más efectiva que una red demasiado profunda.\n",
    "\n",
    "#### Relación entre profundidad y tiempo de ejecución\n",
    "\n",
    "* Existe una **correlación directa** entre el número de capas y el tiempo de entrenamiento.\n",
    "* La red de 5 capas tomó más de 30 segundos, frente a solo 12 segundos de la de 2 capas.\n",
    "* Se refuerza la importancia de equilibrar profundidad y eficiencia.\n",
    "\n",
    "#### Posibles problemas: desvanecimiento del gradiente\n",
    "\n",
    "* Al aumentar la profundidad, el gradiente puede debilitarse al propagarse hacia las capas iniciales, dificultando el aprendizaje.\n",
    "* Esto podría explicar la ligera disminución de accuracy con 4 y 5 capas, a pesar del mayor número de parámetros.\n",
    "\n",
    "---\n",
    "Aunque una red más profunda puede aumentar la capacidad del modelo, en este caso, una arquitectura con 3 capas escondidas logró el mejor balance entre precisión y tiempo. El uso excesivo de capas no siempre aporta beneficios adicionales y puede incluso degradar el rendimiento si no se manejan adecuadamente los efectos como el desvanecimiento del gradiente."
   ]
  },
  {
   "cell_type": "markdown",
   "metadata": {},
   "source": [
    "## Funciones de Activación I"
   ]
  },
  {
   "cell_type": "code",
   "execution_count": 93,
   "metadata": {},
   "outputs": [
    {
     "name": "stdout",
     "output_type": "stream",
     "text": [
      "Activaciones sigmoid - Accuracy validación: 0.9583 - Accuracy test: 0.9527 - Tiempo: 5.06s\n"
     ]
    }
   ],
   "source": [
    "model = Sequential([\n",
    "    Flatten(input_shape=(28, 28)),\n",
    "    Dense(100, activation='sigmoid'),\n",
    "    Dense(50, activation='sigmoid'),\n",
    "    Dense(10, activation='softmax')\n",
    "])\n",
    "model.compile(optimizer='adam', loss='sparse_categorical_crossentropy', metrics=['accuracy'])\n",
    "\n",
    "start_time = time.time()\n",
    "history = model.fit(datos_entreno, validation_data=datos_validacion, epochs=5, verbose=0)\n",
    "duration = time.time() - start_time\n",
    "\n",
    "test_loss, test_accuracy = model.evaluate(datos_prueba, verbose=0)\n",
    "val_accuracy = history.history['val_accuracy'][-1]\n",
    "\n",
    "result_sigmoid = [val_accuracy, test_accuracy, duration, test_loss]\n",
    "print(f\"Activaciones sigmoid - Accuracy validación: {val_accuracy:.4f} - Accuracy test: {test_accuracy:.4f} - Tiempo: {duration:.2f}s\")"
   ]
  },
  {
   "cell_type": "code",
   "execution_count": 94,
   "metadata": {},
   "outputs": [
    {
     "name": "stdout",
     "output_type": "stream",
     "text": [
      "Activaciones sigmoid + capas anteriores - Accuracy validación: 0.9764 - Accuracy test: 0.9771 - Tiempo: 6.12s\n"
     ]
    }
   ],
   "source": [
    "arqui = architectures[best_result_deep[0] - 1]\n",
    "model = Sequential([Flatten(input_shape=(28, 28))])\n",
    "for units in arqui:\n",
    "    model.add(Dense(units, activation='relu'))\n",
    "model.add(Dense(10, activation='softmax'))\n",
    "model.compile(optimizer='adam', loss='sparse_categorical_crossentropy', metrics=['accuracy'])\n",
    "\n",
    "start_time = time.time()\n",
    "history = model.fit(datos_entreno, validation_data=datos_validacion, epochs=5, verbose=0)\n",
    "duration = time.time() - start_time\n",
    "\n",
    "test_loss, test_accuracy = model.evaluate(datos_prueba, verbose=0)\n",
    "val_accuracy = history.history['val_accuracy'][-1]\n",
    "\n",
    "if val_accuracy > result_sigmoid[0]:\n",
    "    result_sigmoid = [val_accuracy, test_accuracy, duration, test_loss]\n",
    "print(f\"Activaciones sigmoid + capas anteriores - Accuracy validación: {val_accuracy:.4f} - Accuracy test: {test_accuracy:.4f} - Tiempo: {duration:.2f}s\")"
   ]
  },
  {
   "cell_type": "markdown",
   "metadata": {},
   "source": [
    "#### Comparación del rendimiento con activaciones originales\n",
    "* Las activaciones sigmoide tuvieron un rendimiento ligeramente inferior tanto en validación como en prueba.\n",
    "* La diferencia es más marcada cuando se usan más capas: sigmoide se ve más afectada conforme aumenta la profundidad.\n",
    "\n",
    "#### Impacto en la velocidad de convergencia\n",
    "* El modelo con sigmoide y 2 capas fue más rápido que su contraparte con ReLU (10.13s vs \\~13-14s).\n",
    "* Sin embargo, al usar 3 capas, el tiempo de entrenamiento con sigmoide aumentó considerablemente: 17.65s, acercándose al de ReLU.\n",
    "\n",
    "---\n",
    "\n",
    "* Aunque sigmoid puede converger rápido en redes pequeñas, tiende a saturarse en capas profundas, lo que dificulta la propagación del gradiente y puede ralentizar o estancar el aprendizaje.\n",
    "* Por esto, en problemas como MNIST, `ReLU` sigue siendo preferible, según lo investigado: Facilita una convergencia más estable, evita la saturación de activaciones y mejora la precisión final.\n"
   ]
  },
  {
   "cell_type": "markdown",
   "metadata": {},
   "source": [
    "## Funciones de Activación II"
   ]
  },
  {
   "cell_type": "code",
   "execution_count": 95,
   "metadata": {},
   "outputs": [
    {
     "name": "stdout",
     "output_type": "stream",
     "text": [
      "Activación ReLU + tanh - Accuracy validación: 0.9737 - Accuracy test: 0.9689 - Tiempo: 4.92s\n"
     ]
    }
   ],
   "source": [
    "model = Sequential([\n",
    "    Flatten(input_shape=(28, 28)),\n",
    "    Dense(100, activation='relu'),\n",
    "    Dense(50, activation='tanh'),\n",
    "    Dense(10, activation='softmax')\n",
    "])\n",
    "model.compile(optimizer='adam', loss='sparse_categorical_crossentropy', metrics=['accuracy'])\n",
    "\n",
    "start_time = time.time()\n",
    "history = model.fit(datos_entreno, validation_data=datos_validacion, epochs=5, verbose=0)\n",
    "duration = time.time() - start_time\n",
    "\n",
    "test_loss, test_accuracy = model.evaluate(datos_prueba, verbose=0)\n",
    "val_accuracy = history.history['val_accuracy'][-1]\n",
    "\n",
    "result_relu_tanh = [val_accuracy, test_accuracy, duration, test_loss]\n",
    "print(f\"Activación ReLU + tanh - Accuracy validación: {val_accuracy:.4f} - Accuracy test: {test_accuracy:.4f} - Tiempo: {duration:.2f}s\")"
   ]
  },
  {
   "cell_type": "markdown",
   "metadata": {},
   "source": [
    "#### Comparación del rendimiento\n",
    "\n",
    "* **Configuración actual** (ReLU + tanh):\n",
    "val_accuracy = 0.9750, test_accuracy = 0.9673, tiempo = 11.35s\n",
    "\n",
    "* **ReLU en ambas capas** (modelo base):\n",
    "val_accuracy = 0.9790, test_accuracy = 0.9799, tiempo = 16.31s\n",
    "\n",
    "* **Sigmoid en ambas capas**:\n",
    "val_accuracy = 0.9758, test_accuracy = 0.9735, tiempo = 17.65s\n",
    "\n",
    "Observaciones:\n",
    "\n",
    "* Esta combinación (ReLU + tanh) logra un rendimiento mejor que `sigmoid`, pero un poco inferior al modelo con solo `ReLU`.\n",
    "* Resaltamos que tiene buena relación entre precisión y tiempo de entrenamiento, siendo más rápido que las otras configuraciones.\n",
    "\n",
    "---\n",
    "\n",
    "* Combinar `ReLU` (en capas tempranas) con `tanh` (en capas más profundas) puede ser una estrategia útil para mantener un flujo de gradiente más estable, especialmente al buscar el equilibrio entre precisión y eficiencia.\n",
    "* En este caso particular, el uso exclusivo de `ReLU` sigue ofreciendo la mejor precisión general, aunque a costa de mayor tiempo de entrenamiento."
   ]
  },
  {
   "cell_type": "markdown",
   "metadata": {},
   "source": [
    "## Tamaño de Batch Grande "
   ]
  },
  {
   "cell_type": "code",
   "execution_count": 96,
   "metadata": {},
   "outputs": [],
   "source": [
    "def test_batch_size(batch_size):\n",
    "    # Recrear datos con nuevo batch size\n",
    "    datos_train = tf.data.Dataset.from_tensor_slices((X_entreno, y_entreno))\n",
    "    datos_val = tf.data.Dataset.from_tensor_slices((X_validacion, y_validacion))\n",
    "    datos_test = tf.data.Dataset.from_tensor_slices((X_prueba, y_prueba))\n",
    "    \n",
    "    datos_train = datos_train.shuffle(num_obs_entreno).batch(batch_size)\n",
    "    datos_val = datos_val.batch(batch_size)\n",
    "    datos_test = datos_test.batch(batch_size)\n",
    "    \n",
    "    # Modelo simple\n",
    "    model = tf.keras.Sequential([\n",
    "        tf.keras.layers.Flatten(input_shape=(28, 28)),\n",
    "        tf.keras.layers.Dense(200, activation='relu'),\n",
    "        tf.keras.layers.Dense(100, activation='relu'),\n",
    "        tf.keras.layers.Dense(10, activation='softmax')\n",
    "    ])\n",
    "    \n",
    "    model.compile(optimizer='adam', loss='sparse_categorical_crossentropy', metrics=['accuracy'])\n",
    "    \n",
    "    # Entrenar y medir tiempo\n",
    "    start_time = time.time()\n",
    "    history = model.fit(datos_train, validation_data=datos_val, epochs=5, verbose=0)\n",
    "    duration = time.time() - start_time\n",
    "    \n",
    "    test_loss, test_acc = model.evaluate(datos_test, verbose=0)\n",
    "    val_acc = history.history['val_accuracy'][-1]\n",
    "    \n",
    "    return duration, val_acc, test_acc\n"
   ]
  },
  {
   "cell_type": "code",
   "execution_count": 97,
   "metadata": {},
   "outputs": [
    {
     "name": "stdout",
     "output_type": "stream",
     "text": [
      "RESULTADOS:\n",
      "Batch 100:   Tiempo: 6.51s | Val Acc: 0.9754 | Test Acc: 0.9760\n",
      "Batch 10000: Tiempo: 2.24s | Val Acc: 0.8987 | Test Acc: 0.8931\n",
      "\n",
      "CAMBIOS:\n",
      "Tiempo: -65.5%\n",
      "Accuracy: -8.29 puntos\n"
     ]
    }
   ],
   "source": [
    "# Probar batch sizes\n",
    "batch_100 = test_batch_size(100)\n",
    "batch_10000 = test_batch_size(10000)\n",
    "\n",
    "print(\"RESULTADOS:\")\n",
    "print(f\"Batch 100:   Tiempo: {batch_100[0]:.2f}s | Val Acc: {batch_100[1]:.4f} | Test Acc: {batch_100[2]:.4f}\")\n",
    "print(f\"Batch 10000: Tiempo: {batch_10000[0]:.2f}s | Val Acc: {batch_10000[1]:.4f} | Test Acc: {batch_10000[2]:.4f}\")\n",
    "\n",
    "# Cambios\n",
    "tiempo_cambio = ((batch_10000[0] - batch_100[0]) / batch_100[0]) * 100\n",
    "acc_cambio = (batch_10000[2] - batch_100[2]) * 100\n",
    "\n",
    "print(f\"\\nCAMBIOS:\")\n",
    "print(f\"Tiempo: {tiempo_cambio:+.1f}%\")\n",
    "print(f\"Accuracy: {acc_cambio:+.2f} puntos\")"
   ]
  },
  {
   "cell_type": "markdown",
   "metadata": {},
   "source": [
    "### Explicación Teórica: \n",
    "* Batch grande = menos actualizaciones por época (más rápido)\n",
    "* Gradientes más estables pero menos regularización\n",
    "* 100 → ~500 actualizaciones/época | 10000 → ~5 actualizaciones/época"
   ]
  },
  {
   "cell_type": "markdown",
   "metadata": {},
   "source": [
    "## Descenso de Gradiente Estocástico (SGD)\n"
   ]
  },
  {
   "cell_type": "code",
   "execution_count": 98,
   "metadata": {},
   "outputs": [
    {
     "name": "stdout",
     "output_type": "stream",
     "text": [
      "COMPARACIÓN SGD vs BATCH NORMAL:\n",
      "SGD (batch=1):   Tiempo: 110.85s | Val Acc: 0.9618 | Test Acc: 0.9604\n",
      "Batch 100:       Tiempo: 6.51s | Val Acc: 0.9754 | Test Acc: 0.9760\n"
     ]
    }
   ],
   "source": [
    "# SGD puro (batch size = 1)\n",
    "def test_sgd():\n",
    "    datos_train = tf.data.Dataset.from_tensor_slices((X_entreno, y_entreno))\n",
    "    datos_val = tf.data.Dataset.from_tensor_slices((X_validacion, y_validacion))\n",
    "    datos_test = tf.data.Dataset.from_tensor_slices((X_prueba, y_prueba))\n",
    "    \n",
    "    datos_train = datos_train.shuffle(num_obs_entreno).batch(1)  # Batch size = 1\n",
    "    datos_val = datos_val.batch(100)\n",
    "    datos_test = datos_test.batch(100)\n",
    "    \n",
    "    model = tf.keras.Sequential([\n",
    "        tf.keras.layers.Flatten(input_shape=(28, 28)),\n",
    "        tf.keras.layers.Dense(200, activation='relu'),\n",
    "        tf.keras.layers.Dense(100, activation='relu'),\n",
    "        tf.keras.layers.Dense(10, activation='softmax')\n",
    "    ])\n",
    "    \n",
    "    model.compile(optimizer='adam', loss='sparse_categorical_crossentropy', metrics=['accuracy'])\n",
    "    \n",
    "    start_time = time.time()\n",
    "    history = model.fit(datos_train, validation_data=datos_val, epochs=2, verbose=0)  # Solo 2 épocas\n",
    "    duration = time.time() - start_time\n",
    "    \n",
    "    test_loss, test_acc = model.evaluate(datos_test, verbose=0)\n",
    "    val_acc = history.history['val_accuracy'][-1]\n",
    "    \n",
    "    return duration, val_acc, test_acc, history\n",
    "\n",
    "sgd_result = test_sgd()\n",
    "\n",
    "print(\"COMPARACIÓN SGD vs BATCH NORMAL:\")\n",
    "print(f\"SGD (batch=1):   Tiempo: {sgd_result[0]:.2f}s | Val Acc: {sgd_result[1]:.4f} | Test Acc: {sgd_result[2]:.4f}\")\n",
    "print(f\"Batch 100:       Tiempo: {batch_100[0]:.2f}s | Val Acc: {batch_100[1]:.4f} | Test Acc: {batch_100[2]:.4f}\")\n"
   ]
  },
  {
   "cell_type": "markdown",
   "metadata": {},
   "source": [
    "### OBSERVACIONES SGD:\n",
    "* Tiempo por época: 93.1s vs 1.5s\n",
    "* Actualizaciones por época: 50,000 vs 500\n",
    "* Entrenamiento más ruidoso pero potencialmente mejor generalización"
   ]
  },
  {
   "cell_type": "markdown",
   "metadata": {},
   "source": [
    "## Tasa de Aprendizaje Baja"
   ]
  },
  {
   "cell_type": "code",
   "execution_count": 99,
   "metadata": {},
   "outputs": [
    {
     "name": "stdout",
     "output_type": "stream",
     "text": [
      "TASA DE APRENDIZAJE BAJA (0.0001):\n",
      "Tiempo: 6.55s | Val Acc: 0.9554 | Test Acc: 0.9498\n",
      "Comparado con Adam default (~0.001): -2.62 puntos\n"
     ]
    }
   ],
   "source": [
    "def test_learning_rate(lr, name):\n",
    "    datos_train = tf.data.Dataset.from_tensor_slices((X_entreno, y_entreno))\n",
    "    datos_val = tf.data.Dataset.from_tensor_slices((X_validacion, y_validacion))\n",
    "    datos_test = tf.data.Dataset.from_tensor_slices((X_prueba, y_prueba))\n",
    "    \n",
    "    datos_train = datos_train.shuffle(num_obs_entreno).batch(100)\n",
    "    datos_val = datos_val.batch(100)\n",
    "    datos_test = datos_test.batch(100)\n",
    "    \n",
    "    model = tf.keras.Sequential([\n",
    "        tf.keras.layers.Flatten(input_shape=(28, 28)),\n",
    "        tf.keras.layers.Dense(200, activation='relu'),\n",
    "        tf.keras.layers.Dense(100, activation='relu'),\n",
    "        tf.keras.layers.Dense(10, activation='softmax')\n",
    "    ])\n",
    "    \n",
    "    # Optimizador con learning rate personalizado\n",
    "    optimizer = tf.keras.optimizers.Adam(learning_rate=lr)\n",
    "    model.compile(optimizer=optimizer, loss='sparse_categorical_crossentropy', metrics=['accuracy'])\n",
    "    \n",
    "    start_time = time.time()\n",
    "    history = model.fit(datos_train, validation_data=datos_val, epochs=5, verbose=0)\n",
    "    duration = time.time() - start_time\n",
    "    \n",
    "    test_loss, test_acc = model.evaluate(datos_test, verbose=0)\n",
    "    val_acc = history.history['val_accuracy'][-1]\n",
    "    \n",
    "    return duration, val_acc, test_acc, history\n",
    "\n",
    "# Tasa baja\n",
    "lr_low = test_learning_rate(0.0001, \"Baja\")\n",
    "\n",
    "print(\"TASA DE APRENDIZAJE BAJA (0.0001):\")\n",
    "print(f\"Tiempo: {lr_low[0]:.2f}s | Val Acc: {lr_low[1]:.4f} | Test Acc: {lr_low[2]:.4f}\")\n",
    "print(f\"Comparado con Adam default (~0.001): {(lr_low[2] - batch_100[2])*100:+.2f} puntos\")\n",
    "\n"
   ]
  },
  {
   "cell_type": "markdown",
   "metadata": {},
   "source": [
    "### ANÁLISIS:\n",
    "* Convergencia más lenta pero potencialmente más precisa\n",
    "* Menos riesgo de saltar mínimos óptimos\n",
    "* Puede necesitar más épocas para converger completamente"
   ]
  },
  {
   "cell_type": "markdown",
   "metadata": {},
   "source": [
    "## Tasa de Aprendizaje Alta"
   ]
  },
  {
   "cell_type": "code",
   "execution_count": 100,
   "metadata": {},
   "outputs": [
    {
     "name": "stdout",
     "output_type": "stream",
     "text": [
      "TASA DE APRENDIZAJE ALTA (0.02):\n",
      "Tiempo: 6.56s | Val Acc: 0.9539 | Test Acc: 0.9602\n",
      "Comparado con Adam default: -1.58 puntos\n"
     ]
    }
   ],
   "source": [
    "# Tasa alta\n",
    "lr_high = test_learning_rate(0.02, \"Alta\")\n",
    "\n",
    "print(\"TASA DE APRENDIZAJE ALTA (0.02):\")\n",
    "print(f\"Tiempo: {lr_high[0]:.2f}s | Val Acc: {lr_high[1]:.4f} | Test Acc: {lr_high[2]:.4f}\")\n",
    "print(f\"Comparado con Adam default: {(lr_high[2] - batch_100[2])*100:+.2f} puntos\")"
   ]
  },
  {
   "cell_type": "markdown",
   "metadata": {},
   "source": [
    "### ANÁLISIS:\n",
    "* Convergencia más rápida pero potencialmente inestable\n",
    "* Riesgo de sobrepasar mínimos óptimos\n",
    "* Puede causar oscilaciones o divergencia"
   ]
  },
  {
   "cell_type": "markdown",
   "metadata": {},
   "source": [
    "## Optimización Avanzada - Regularización\n"
   ]
  },
  {
   "cell_type": "code",
   "execution_count": 101,
   "metadata": {},
   "outputs": [],
   "source": [
    "# Función para crear modelo con regularización\n",
    "def create_regularized_model(dropout_rate=0.0, l2_rate=0.0):\n",
    "    model = tf.keras.Sequential([\n",
    "        tf.keras.layers.Flatten(input_shape=(28, 28)),\n",
    "        tf.keras.layers.Dense(200, activation='relu', \n",
    "                            kernel_regularizer=tf.keras.regularizers.l2(l2_rate)),\n",
    "        tf.keras.layers.Dropout(dropout_rate),\n",
    "        tf.keras.layers.Dense(100, activation='relu',\n",
    "                            kernel_regularizer=tf.keras.regularizers.l2(l2_rate)),\n",
    "        tf.keras.layers.Dropout(dropout_rate),\n",
    "        tf.keras.layers.Dense(10, activation='softmax')\n",
    "    ])\n",
    "    return model\n",
    "\n",
    "def test_regularization(dropout_rate, l2_rate, name):\n",
    "    datos_train = tf.data.Dataset.from_tensor_slices((X_entreno, y_entreno))\n",
    "    datos_val = tf.data.Dataset.from_tensor_slices((X_validacion, y_validacion))\n",
    "    datos_test = tf.data.Dataset.from_tensor_slices((X_prueba, y_prueba))\n",
    "    \n",
    "    datos_train = datos_train.shuffle(num_obs_entreno).batch(100)\n",
    "    datos_val = datos_val.batch(100)\n",
    "    datos_test = datos_test.batch(100)\n",
    "    \n",
    "    model = create_regularized_model(dropout_rate, l2_rate)\n",
    "    model.compile(optimizer='adam', loss='sparse_categorical_crossentropy', metrics=['accuracy'])\n",
    "    \n",
    "    start_time = time.time()\n",
    "    history = model.fit(datos_train, validation_data=datos_val, epochs=5, verbose=0)\n",
    "    duration = time.time() - start_time\n",
    "    \n",
    "    test_loss, test_acc = model.evaluate(datos_test, verbose=0)\n",
    "    val_acc = history.history['val_accuracy'][-1]\n",
    "    train_acc = history.history['accuracy'][-1]\n",
    "    \n",
    "    # Calcular overfitting (diferencia entre train y val)\n",
    "    overfitting = train_acc - val_acc\n",
    "    \n",
    "    return duration, train_acc, val_acc, test_acc, overfitting\n"
   ]
  },
  {
   "cell_type": "code",
   "execution_count": 102,
   "metadata": {},
   "outputs": [
    {
     "name": "stdout",
     "output_type": "stream",
     "text": [
      "EXPERIMENTOS DE REGULARIZACIÓN:\n",
      "------------------------------------------------------------\n",
      "Sin regularización        | Train: 0.9865 | Val: 0.9763 | Test: 0.9779 | Overfitting: 0.0102\n",
      "Dropout 0.2               | Train: 0.9743 | Val: 0.9752 | Test: 0.9744 | Overfitting: -0.0009\n",
      "Dropout 0.5               | Train: 0.9474 | Val: 0.9727 | Test: 0.9689 | Overfitting: -0.0253\n",
      "L2 0.01                   | Train: 0.9405 | Val: 0.9511 | Test: 0.9279 | Overfitting: -0.0106\n",
      "Dropout 0.2 + L2 0.01     | Train: 0.9242 | Val: 0.9434 | Test: 0.9162 | Overfitting: -0.0192\n"
     ]
    }
   ],
   "source": [
    "# Experimentos con diferentes configuraciones\n",
    "configs = [\n",
    "    (0.0, 0.0, \"Sin regularización\"),\n",
    "    (0.2, 0.0, \"Dropout 0.2\"),\n",
    "    (0.5, 0.0, \"Dropout 0.5\"),\n",
    "    (0.0, 0.01, \"L2 0.01\"),\n",
    "    (0.2, 0.01, \"Dropout 0.2 + L2 0.01\")\n",
    "]\n",
    "\n",
    "results_reg = []\n",
    "print(\"EXPERIMENTOS DE REGULARIZACIÓN:\")\n",
    "print(\"-\" * 60)\n",
    "\n",
    "for dropout, l2, name in configs:\n",
    "    result = test_regularization(dropout, l2, name)\n",
    "    results_reg.append((name, *result))\n",
    "    print(f\"{name:<25} | Train: {result[1]:.4f} | Val: {result[2]:.4f} | Test: {result[3]:.4f} | Overfitting: {result[4]:.4f}\")\n",
    "\n"
   ]
  },
  {
   "cell_type": "markdown",
   "metadata": {},
   "source": [
    "### Resultados esperados:\n",
    "* SGD: Más lento, precisión similar/mejor\n",
    "* LR Baja: Tiempo normal, precisión posiblemente menor (necesita más épocas)\n",
    "* LR Alta: Tiempo normal, precisión posiblemente menor (inestable)"
   ]
  },
  {
   "cell_type": "markdown",
   "metadata": {},
   "source": [
    "## Comparación de modelos"
   ]
  },
  {
   "cell_type": "code",
   "execution_count": 104,
   "metadata": {},
   "outputs": [
    {
     "data": {
      "image/png": "[encoded data removed]",
      "text/plain": [
       "<Figure size 1800x600 with 3 Axes>"
      ]
     },
     "metadata": {},
     "output_type": "display_data"
    }
   ],
   "source": [
    "# Lista de resultados de modelos en forma [val_acc, test_acc, tiempo]\n",
    "result_sets = [best_result_ms[1:], result_three, best_result_deep[1:], result_sigmoid, result_relu_tanh,\n",
    "               [0.8978, 0.8923, 3.15], # Batch 10k\n",
    "               [0.9612, 0.9593, 141.54], # SGD\n",
    "               [0.9536, 0.9497, 8.02], # LR Baja\n",
    "               [0.9538, 0.9488, 8.15], # LR Alta\n",
    "               [0.9749, 0.9752, 8.0]] # Dropout 0.2\n",
    "\n",
    "# Nombres para los modelos (puedes personalizarlos)\n",
    "model_names = [str(best_result_ms[0]) + ' neuronas', 'Tres Capas', 'Profundidad ' + str(best_result_deep[0]), 'Sigmoid', 'ReLU-Tanh',\n",
    "               'Batch 10k', 'SGD', 'LR Baja', 'LR Alta', 'Dropout 0.2']\n",
    "\n",
    "# Separar métricas\n",
    "val_accuracies = [res[0] for res in result_sets]\n",
    "test_accuracies = [res[1] for res in result_sets]\n",
    "times = [res[2] for res in result_sets]\n",
    "loss = [res[3] if len(res) > 3 else 0.0 for res in result_sets]\n",
    "\n",
    "# Posiciones para las barras\n",
    "x = np.arange(len(model_names))\n",
    "width = 0.35\n",
    "\n",
    "# Crear figura con 2 subplots\n",
    "fig, axs = plt.subplots(1, 3, figsize=(18, 6))\n",
    "\n",
    "# --- Subplot 1: Accuracy de Validación y Prueba ---\n",
    "axs[0].bar(x - width/2, val_accuracies, width, label='Validación', color='skyblue')\n",
    "axs[0].bar(x + width/2, test_accuracies, width, label='Prueba', color='orange')\n",
    "\n",
    "axs[0].set_xlabel(\"Modelos\")\n",
    "axs[0].set_ylabel(\"Accuracy\")\n",
    "axs[0].set_title(\"Accuracy de Validación y Prueba por Modelo\")\n",
    "axs[0].set_xticks(x)\n",
    "axs[0].set_xticklabels(model_names, rotation=45, ha='right')\n",
    "axs[0].legend()\n",
    "axs[0].grid(axis='y', linestyle='--', alpha=0.6)\n",
    "\n",
    "# --- Subplot 2: Pérdida en prueba ---\n",
    "axs[1].plot(x, loss, marker='o', color='red')\n",
    "axs[1].set_title(\"Pérdida del modelo\")\n",
    "axs[1].set_xlabel(\"Modelos\")\n",
    "axs[1].set_ylabel(\"Pérdida\")\n",
    "axs[1].set_xticks(x)\n",
    "axs[1].set_xticklabels(model_names, rotation=45, ha='right')\n",
    "axs[1].grid(True, linestyle='--', alpha=0.6)\n",
    "\n",
    "# --- Subplot 3: Tiempo de Entrenamiento ---\n",
    "axs[2].plot(x, times, marker='o', color='green')\n",
    "axs[2].set_title(\"Tiempo de Entrenamiento (s)\")\n",
    "axs[2].set_xlabel(\"Modelos\")\n",
    "axs[2].set_ylabel(\"Segundos\")\n",
    "axs[2].set_xticks(x)\n",
    "axs[2].set_xticklabels(model_names, rotation=45, ha='right')\n",
    "axs[2].grid(True, linestyle='--', alpha=0.6)\n",
    "\n",
    "# Ajustar diseño\n",
    "plt.tight_layout()\n",
    "plt.show()"
   ]
  },
  {
   "cell_type": "markdown",
   "metadata": {},
   "source": [
    "## Modelo Óptimo Final"
   ]
  },
  {
   "cell_type": "code",
   "execution_count": null,
   "metadata": {},
   "outputs": [
    {
     "name": "stdout",
     "output_type": "stream",
     "text": [
      "MODELO ÓPTIMO FINAL:\n",
      "Precisión validación: 0.9816 (98.16%)\n",
      "Precisión prueba: 0.9816 (98.16%)\n",
      "Tiempo: 49.67s\n",
      "Overfitting: 0.0102\n"
     ]
    }
   ],
   "source": [
    "# Modelo óptimo combinando mejores técnicas\n",
    "def create_optimal_model():\n",
    "    model = tf.keras.Sequential([\n",
    "        tf.keras.layers.Flatten(input_shape=(28, 28)),\n",
    "        tf.keras.layers.Dense(300, activation='relu'),\n",
    "        tf.keras.layers.Dropout(0.15),\n",
    "        tf.keras.layers.Dense(200, activation='relu'),\n",
    "        tf.keras.layers.Dropout(0.15),\n",
    "        tf.keras.layers.Dense(100, activation='relu'),\n",
    "        tf.keras.layers.Dropout(0.10),\n",
    "        tf.keras.layers.Dense(10, activation='softmax')\n",
    "    ])\n",
    "    return model\n",
    "\n",
    "# Entrenar modelo óptimo\n",
    "datos_train = tf.data.Dataset.from_tensor_slices((X_entreno, y_entreno))\n",
    "datos_val = tf.data.Dataset.from_tensor_slices((X_validacion, y_validacion))\n",
    "datos_test = tf.data.Dataset.from_tensor_slices((X_prueba, y_prueba))\n",
    "\n",
    "datos_train = datos_train.shuffle(num_obs_entreno).batch(100)\n",
    "datos_val = datos_val.batch(100)\n",
    "datos_test = datos_test.batch(100)\n",
    "\n",
    "model = create_optimal_model()\n",
    "model.compile(optimizer='adam', loss='sparse_categorical_crossentropy', metrics=['accuracy'])\n",
    "\n",
    "# Entrenar\n",
    "start_time = time.time()\n",
    "history = model.fit(datos_train, validation_data=datos_val, epochs=10, verbose=0)\n",
    "duration = time.time() - start_time\n",
    "\n",
    "# Resultados\n",
    "test_loss, test_acc = model.evaluate(datos_test, verbose=0)\n",
    "val_acc = max(history.history['val_accuracy'])\n",
    "train_acc = history.history['accuracy'][-1]\n",
    "\n",
    "print(\"MODELO ÓPTIMO FINAL:\")\n",
    "print(f\"Precisión validación: {val_acc:.4f} ({val_acc*100:.2f}%)\")\n",
    "print(f\"Precisión prueba: {test_acc:.4f} ({test_acc*100:.2f}%)\")\n",
    "print(f\"Tiempo: {duration:.2f}s\")\n",
    "print(f\"Overfitting: {train_acc - val_acc:.4f}\")\n",
    "\n"
   ]
  },
  {
   "cell_type": "markdown",
   "metadata": {},
   "source": [
    "### Decisiones de diseño\n",
    "ARQUITECTURA:\n",
    "* 3 capas [300,200,100]: Mejor balance profundidad/rendimiento\n",
    "* Dropout 0.15/0.10: Regularización sin penalizar capacidad\n",
    "* Batch 100, 10 épocas: Configuración probada óptima"
   ]
  }
 ],
 "metadata": {
  "kernelspec": {
   "display_name": ".venv",
   "language": "python",
   "name": "python3"
  },
  "language_info": {
   "codemirror_mode": {
    "name": "ipython",
    "version": 3
   },
   "file_extension": ".py",
   "mimetype": "text/x-python",
   "name": "python",
   "nbconvert_exporter": "python",
   "pygments_lexer": "ipython3",
   "version": "3.12.5"
  }
 },
 "nbformat": 4,
 "nbformat_minor": 4
}
