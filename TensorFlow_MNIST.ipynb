{
 "cells": [
  {
   "cell_type": "markdown",
   "metadata": {},
   "source": [
    "# Red Neuronal Profunda (DNN) para clasificación MNIST\n",
    "\n",
    "Aplicaremos todos nuestros conocimientos para crear una DNN, frecuentemente llamada también una Artificial Neural Network (ANN).  El problema que vamos a trabajar se conoce como el \"Hola Mundo\" del aprendizaje profundo porque para la mayoría de estudiantes este es el primer algoritmo de aprendizaje profundo que ven. \n",
    "\n",
    "El conjunto de datos se llama MNIST y se refiere al reconocimiento de dígitos escritos a mano.  Pueden encontrar más información en el sitio web de Yann LeCun (Director of AI Research, Facebook).  El es uno de los pioneros de todo este tema, así como de otras metodologías más complejas como las Redes Neurales Convolucionales (CNN) que se utilizan hoy día.\n",
    "\n",
    "El conjunto de datos tiene 70,000 imágenes (28x28 pixels) de dígitos escritos a mano (1 dígito por imagen).\n",
    "\n",
    "La meta es escribir un algoritmo que detecta qué dígito ha sido escrito.  Como solo hay 10 dígitos (0 al 9), este es un problema de clasificación con 10 clases.\n",
    "\n",
    "Nuestra meta será construir una RN con 2 capas escondidas."
   ]
  },
  {
   "cell_type": "markdown",
   "metadata": {},
   "source": [
    "## Plan de Acción para preparar el modelo\n",
    "\n",
    "1.  Preparar los datos y preprocesarlos.  Crear los conjuntos de datos para entrenar, validar y probar\n",
    "2.  Crear un esboso del modelo y seleccionar las funciones de activación\n",
    "3.  Fijar los optimizadores avanzados y la función de pérdida\n",
    "4.  Hacer que el modelo aprenda\n",
    "5.  Probar la exactitud (\"accuracy\") del modelo"
   ]
  },
  {
   "cell_type": "markdown",
   "metadata": {},
   "source": [
    "## Importar los paquetes relevantes\n",
    "\n",
    "TensorFlow incluye un proveedor de los datos de MNIST que utilizaremos acá.  Viene con el módulo **\"tensorflow.keras.datasets\"**. "
   ]
  },
  {
   "cell_type": "code",
   "execution_count": 1,
   "metadata": {
    "tags": []
   },
   "outputs": [],
   "source": [
    "import numpy as np\n",
    "import tensorflow as tf"
   ]
  },
  {
   "cell_type": "markdown",
   "metadata": {},
   "source": [
    "La siguiente instrucción, cuando se corre por primera vez, descarga el conjunto de datos en lo indicado por el parámetro path, relativo a  ~/.keras/datasets).  Como si se hubiera ejecutado Lo siguiente:\n",
    "\n",
    "tf.keras.datasets.mnist.load_data(\n",
    "    path = 'mnist.npz'\n",
    ")\n",
    "\n",
    "luego separa los datos en un conjunto para entrenamiento y otro para pruebas.\n",
    "\n",
    "Si se ejecuta más de una vez, ya no descarga el archivo."
   ]
  },
  {
   "cell_type": "code",
   "execution_count": 2,
   "metadata": {},
   "outputs": [],
   "source": [
    "(X_entreno, y_entreno), (X_prueba, y_prueba) = tf.keras.datasets.mnist.load_data()\n"
   ]
  },
  {
   "cell_type": "code",
   "execution_count": 3,
   "metadata": {},
   "outputs": [
    {
     "data": {
      "text/plain": [
       "array([[[0, 0, 0, ..., 0, 0, 0],\n",
       "        [0, 0, 0, ..., 0, 0, 0],\n",
       "        [0, 0, 0, ..., 0, 0, 0],\n",
       "        ...,\n",
       "        [0, 0, 0, ..., 0, 0, 0],\n",
       "        [0, 0, 0, ..., 0, 0, 0],\n",
       "        [0, 0, 0, ..., 0, 0, 0]],\n",
       "\n",
       "       [[0, 0, 0, ..., 0, 0, 0],\n",
       "        [0, 0, 0, ..., 0, 0, 0],\n",
       "        [0, 0, 0, ..., 0, 0, 0],\n",
       "        ...,\n",
       "        [0, 0, 0, ..., 0, 0, 0],\n",
       "        [0, 0, 0, ..., 0, 0, 0],\n",
       "        [0, 0, 0, ..., 0, 0, 0]],\n",
       "\n",
       "       [[0, 0, 0, ..., 0, 0, 0],\n",
       "        [0, 0, 0, ..., 0, 0, 0],\n",
       "        [0, 0, 0, ..., 0, 0, 0],\n",
       "        ...,\n",
       "        [0, 0, 0, ..., 0, 0, 0],\n",
       "        [0, 0, 0, ..., 0, 0, 0],\n",
       "        [0, 0, 0, ..., 0, 0, 0]],\n",
       "\n",
       "       ...,\n",
       "\n",
       "       [[0, 0, 0, ..., 0, 0, 0],\n",
       "        [0, 0, 0, ..., 0, 0, 0],\n",
       "        [0, 0, 0, ..., 0, 0, 0],\n",
       "        ...,\n",
       "        [0, 0, 0, ..., 0, 0, 0],\n",
       "        [0, 0, 0, ..., 0, 0, 0],\n",
       "        [0, 0, 0, ..., 0, 0, 0]],\n",
       "\n",
       "       [[0, 0, 0, ..., 0, 0, 0],\n",
       "        [0, 0, 0, ..., 0, 0, 0],\n",
       "        [0, 0, 0, ..., 0, 0, 0],\n",
       "        ...,\n",
       "        [0, 0, 0, ..., 0, 0, 0],\n",
       "        [0, 0, 0, ..., 0, 0, 0],\n",
       "        [0, 0, 0, ..., 0, 0, 0]],\n",
       "\n",
       "       [[0, 0, 0, ..., 0, 0, 0],\n",
       "        [0, 0, 0, ..., 0, 0, 0],\n",
       "        [0, 0, 0, ..., 0, 0, 0],\n",
       "        ...,\n",
       "        [0, 0, 0, ..., 0, 0, 0],\n",
       "        [0, 0, 0, ..., 0, 0, 0],\n",
       "        [0, 0, 0, ..., 0, 0, 0]]], dtype=uint8)"
      ]
     },
     "execution_count": 3,
     "metadata": {},
     "output_type": "execute_result"
    }
   ],
   "source": [
    "X_entreno"
   ]
  },
  {
   "cell_type": "raw",
   "metadata": {},
   "source": [
    "X_entreno.shape"
   ]
  },
  {
   "cell_type": "markdown",
   "metadata": {},
   "source": [
    "Como no podemos ver la forma de los conjuntos...les queda de tarea averiguar por qué no...podemos utilizar la instrucción **assert**"
   ]
  },
  {
   "cell_type": "code",
   "execution_count": 4,
   "metadata": {},
   "outputs": [],
   "source": [
    "assert X_entreno.shape == (60000, 28, 28)\n",
    "assert X_prueba.shape == (10000, 28, 28)\n",
    "assert y_entreno.shape == (60000,)\n",
    "assert y_prueba.shape == (10000,)"
   ]
  },
  {
   "cell_type": "markdown",
   "metadata": {},
   "source": [
    "## Datos\n",
    "\n",
    "Esta sección es donde pre-procesaremos nuestros datos."
   ]
  },
  {
   "cell_type": "markdown",
   "metadata": {},
   "source": [
    "Por default, TF2 tiene conjuntos de datos de entrenamiento y de prueba, pero no tiene un conjunto de validación, por lo que debemos dividirlo por nuestra cuenta\n",
    "\n",
    "Lo haremos del mismo tamaño que el conjunto de prueba"
   ]
  },
  {
   "cell_type": "code",
   "execution_count": 5,
   "metadata": {},
   "outputs": [],
   "source": [
    "num_obs_validacion = y_prueba.shape[0]"
   ]
  },
  {
   "cell_type": "markdown",
   "metadata": {},
   "source": [
    "Usaremos una variable dedicada para el número de observaciones de prueba"
   ]
  },
  {
   "cell_type": "code",
   "execution_count": 6,
   "metadata": {},
   "outputs": [],
   "source": [
    "num_obs_prueba = y_prueba.shape[0]"
   ]
  },
  {
   "cell_type": "markdown",
   "metadata": {},
   "source": [
    "Generalmente preferimos \"normalizar\" nuestros datos en alguna forma para que el resultado sea numéricamente más estable.  En este caso simplemente preferimos tener entradas entre 0 y 1, por lo que definimos una función, que reciba la imagen MNIST.\n",
    "\n",
    "Como los posibles valores de las entradas son entre 0 y 255 (256 posibles tonos de gris), al dividirlos por 255 obtenemos el resultado deseado."
   ]
  },
  {
   "cell_type": "code",
   "execution_count": 7,
   "metadata": {
    "tags": []
   },
   "outputs": [],
   "source": [
    "X_entreno_normalizado = X_entreno / 255"
   ]
  },
  {
   "cell_type": "markdown",
   "metadata": {},
   "source": [
    "Finalmente, normalizaremos y convertiremos los datos de pruebas en tandas.  Los normalizamos para que tengan la misma magnitud que los datos de entrenamiento y validación.\n",
    "\n",
    "No hay necesidad de \"barajearlo\" ya que no estaremos entrenando con los datos de prueba.  Habra una sola tanda, igual al tamaño de los datos de prueba."
   ]
  },
  {
   "cell_type": "code",
   "execution_count": 8,
   "metadata": {},
   "outputs": [],
   "source": [
    "X_prueba_normalizado = X_prueba / 255"
   ]
  },
  {
   "cell_type": "markdown",
   "metadata": {},
   "source": [
    "Una vez se han \"normalizado\" los datos, podemos proceder a extraer los datos de entrenamiento y de validación.\n",
    "\n",
    "Nuestros datos de validación serán 10000 para ser igual al conjunto de prueba.\n",
    "\n",
    "Finalmente, creamos una tanda con un tamaño de tanda igual al total de muestras de validación."
   ]
  },
  {
   "cell_type": "code",
   "execution_count": 9,
   "metadata": {},
   "outputs": [],
   "source": [
    "X_validacion = X_entreno_normalizado[-num_obs_validacion: , : , : ]\n",
    "y_validacion = y_entreno[-num_obs_validacion:]"
   ]
  },
  {
   "cell_type": "markdown",
   "metadata": {},
   "source": [
    "Similarmente, los datos de entrenamiento son todos los demás por lo que nos salteamos tantas observaciones como las hay en el conjunto de validación."
   ]
  },
  {
   "cell_type": "code",
   "execution_count": 10,
   "metadata": {},
   "outputs": [],
   "source": [
    "X_entreno = X_entreno_normalizado[ : X_entreno_normalizado.shape[0] - num_obs_validacion, : , : ]\n",
    "y_entreno = y_entreno[ : y_entreno.shape[0] - num_obs_validacion]\n",
    "num_obs_entreno = y_entreno.shape[0]"
   ]
  },
  {
   "cell_type": "markdown",
   "metadata": {},
   "source": [
    "Convertir de Arreglos Numpy a Tensores"
   ]
  },
  {
   "cell_type": "code",
   "execution_count": 11,
   "metadata": {},
   "outputs": [],
   "source": [
    "datos_entreno = tf.data.Dataset.from_tensor_slices((X_entreno, y_entreno))\n",
    "datos_validacion = tf.data.Dataset.from_tensor_slices((X_validacion, y_validacion))\n",
    "datos_prueba = tf.data.Dataset.from_tensor_slices((X_prueba, y_prueba))"
   ]
  },
  {
   "cell_type": "markdown",
   "metadata": {},
   "source": [
    "Barajear y hacer tandas con el conjunto de datos de entrenamiento"
   ]
  },
  {
   "cell_type": "code",
   "execution_count": 12,
   "metadata": {},
   "outputs": [],
   "source": [
    "TAMANIO_TANDA = 100\n",
    "datos_entreno = datos_entreno.shuffle(buffer_size = num_obs_entreno).batch(TAMANIO_TANDA)"
   ]
  },
  {
   "cell_type": "markdown",
   "metadata": {},
   "source": [
    "Hacer tandas con los conjuntos de validación y prueba, no se necesita barajearlos"
   ]
  },
  {
   "cell_type": "code",
   "execution_count": 13,
   "metadata": {},
   "outputs": [],
   "source": [
    "datos_validacion = datos_validacion.batch(TAMANIO_TANDA)\n",
    "datos_prueba = datos_prueba.batch(TAMANIO_TANDA)"
   ]
  },
  {
   "cell_type": "markdown",
   "metadata": {},
   "source": [
    "## Modelo"
   ]
  },
  {
   "cell_type": "markdown",
   "metadata": {},
   "source": [
    "### Delineamos el modelo\n",
    "\n",
    "Cuando pensamos sobre un algoritmo de aprendizaje profundo, casi siempre imaginamos la realización del mismo.  Asi que esta vez, hagámoslo.  :)"
   ]
  },
  {
   "cell_type": "code",
   "execution_count": 14,
   "metadata": {
    "tags": []
   },
   "outputs": [],
   "source": [
    "tamanio_entrada = 784\n",
    "tamanio_salida = 10"
   ]
  },
  {
   "cell_type": "markdown",
   "metadata": {},
   "source": [
    "Usaremos el mismo ancho para ambas capas escondidas.  (No es una necesidad!)"
   ]
  },
  {
   "cell_type": "code",
   "execution_count": 15,
   "metadata": {},
   "outputs": [],
   "source": [
    "tamanio_capa_escondida = 50"
   ]
  },
  {
   "cell_type": "markdown",
   "metadata": {},
   "source": [
    "# Modelo original\n",
    "\n",
    "La primera capa (la de entrada):  cada observación es de 28x28 píxeles, por lo tanto es un tensor de rango 2.\n",
    "\n",
    "Como aún no hemos aprendido sobre CNNs, no sabemos como alimentar este tipo de entrada a nuestra red, por lo tanto hay que \"aplanar\" las imágenes.  Hay un método conveniente **Flatten** que toma nuestro tensor de 28x28 y lo convierte en  un vector (None,) o (784,)...porque 28x28 = 784.  Esto nos permite crear una red de alimentación hacia adelante.\n",
    "\n",
    "    \n",
    "**tf.keras.layers.Dense** básicamente implementa:  *salida = activation(dot(entrada, peso) + sesgo)*.  Requiere varios argumentos, pero los más importantes para nosotros son el ancho de la capa escondida y la función de activación.\n",
    "\n",
    "La capa final no es diferente, solo nos aseguramos de activarla con **softmax**\n"
   ]
  },
  {
   "cell_type": "code",
   "execution_count": 16,
   "metadata": {},
   "outputs": [
    {
     "name": "stderr",
     "output_type": "stream",
     "text": [
      "c:\\Users\\Fabi\\Documents\\U\\python_env\\.venv\\Lib\\site-packages\\keras\\src\\layers\\reshaping\\flatten.py:37: UserWarning: Do not pass an `input_shape`/`input_dim` argument to a layer. When using Sequential models, prefer using an `Input(shape)` object as the first layer in the model instead.\n",
      "  super().__init__(**kwargs)\n"
     ]
    }
   ],
   "source": [
    "modelo = tf.keras.Sequential([\n",
    "\n",
    "    tf.keras.layers.Flatten(input_shape=(28, 28)), # capa entrada\n",
    "    \n",
    "    tf.keras.layers.Dense(tamanio_capa_escondida, activation='relu'), # 1era capa escondida\n",
    "    tf.keras.layers.Dense(tamanio_capa_escondida, activation='relu'), # 2nda capa escondida\n",
    "\n",
    "    tf.keras.layers.Dense(tamanio_salida, activation='softmax') # capa salida\n",
    "])"
   ]
  },
  {
   "cell_type": "markdown",
   "metadata": {},
   "source": [
    "### Seleccionar el optimizador y la función de pérdida"
   ]
  },
  {
   "cell_type": "markdown",
   "metadata": {
    "tags": []
   },
   "source": [
    "Definimos el optimizador que nos gustaría utilizar, la función de pérdida, y las métricas que nos interesa obtener en cada interacción"
   ]
  },
  {
   "cell_type": "code",
   "execution_count": 17,
   "metadata": {},
   "outputs": [],
   "source": [
    "modelo.compile(optimizer='adam', loss='sparse_categorical_crossentropy', metrics=['accuracy'])"
   ]
  },
  {
   "cell_type": "markdown",
   "metadata": {},
   "source": [
    "### Entrenamiento\n",
    "\n",
    "Acá es donde entrenamos el modelo que hemos construído\n",
    "\n",
    "Determinamos el número máximo de épocas.\n",
    "\n",
    "Ajustamos el modelo , especificando:\n",
    "\n",
    "* los datos de entrenamiento\n",
    "* el número total de épocas\n",
    "* y los datos de validación que creamos en el formato (entradas, metas)"
   ]
  },
  {
   "cell_type": "code",
   "execution_count": 18,
   "metadata": {},
   "outputs": [
    {
     "name": "stdout",
     "output_type": "stream",
     "text": [
      "Epoch 1/5\n",
      "500/500 - 3s - 6ms/step - accuracy: 0.8669 - loss: 0.4536 - val_accuracy: 0.9385 - val_loss: 0.2160\n",
      "Epoch 2/5\n",
      "500/500 - 2s - 3ms/step - accuracy: 0.9393 - loss: 0.2084 - val_accuracy: 0.9528 - val_loss: 0.1625\n",
      "Epoch 3/5\n",
      "500/500 - 2s - 3ms/step - accuracy: 0.9541 - loss: 0.1569 - val_accuracy: 0.9546 - val_loss: 0.1577\n",
      "Epoch 4/5\n",
      "500/500 - 2s - 3ms/step - accuracy: 0.9631 - loss: 0.1275 - val_accuracy: 0.9635 - val_loss: 0.1231\n",
      "Epoch 5/5\n",
      "500/500 - 2s - 3ms/step - accuracy: 0.9686 - loss: 0.1064 - val_accuracy: 0.9628 - val_loss: 0.1230\n"
     ]
    },
    {
     "data": {
      "text/plain": [
       "<keras.src.callbacks.history.History at 0x28192c7fb00>"
      ]
     },
     "execution_count": 18,
     "metadata": {},
     "output_type": "execute_result"
    }
   ],
   "source": [
    "NUMERO_EPOCAS = 5\n",
    "\n",
    "modelo.fit(datos_entreno,\n",
    "          epochs = NUMERO_EPOCAS, \n",
    "          validation_data = datos_validacion,\n",
    "          verbose = 2)"
   ]
  },
  {
   "cell_type": "markdown",
   "metadata": {},
   "source": [
    "## Probar el modelo\n",
    "\n",
    "Como se discutió en clase, luego del entrenamiento (con los datos de entrenamiento), y la validación (con los datos de validación), probamos el potencial de predicción final de nuestro modelo con el conjunto de datos de prueba que el algoritmo NUNCA ha visto antes.\n",
    "\n",
    "Es muy importante reconocer que estar \"jugando\" con los hiperparámetros sobre-ajusta el conjunto de datos de validación.\n",
    "\n",
    "La prueba es la instancia absolutamente final. **NUNCA** debe probarse el modelo antes de haber completamente ajustado el mismo.\n",
    "\n",
    "Si se ajusta el modelo después de hacer la prueba, se empezará a sobre-ajustar el conjunto de datos de prueba, que echaría \"por los suelos\" el propósito original del mismo."
   ]
  },
  {
   "cell_type": "code",
   "execution_count": 19,
   "metadata": {},
   "outputs": [
    {
     "name": "stdout",
     "output_type": "stream",
     "text": [
      "\u001b[1m100/100\u001b[0m \u001b[32m━━━━━━━━━━━━━━━━━━━━\u001b[0m\u001b[37m\u001b[0m \u001b[1m0s\u001b[0m 2ms/step - accuracy: 0.9557 - loss: 22.8230\n"
     ]
    }
   ],
   "source": [
    "perdida_prueba, precision_prueba = modelo.evaluate(datos_prueba)"
   ]
  },
  {
   "cell_type": "code",
   "execution_count": 20,
   "metadata": {},
   "outputs": [
    {
     "name": "stdout",
     "output_type": "stream",
     "text": [
      "Pérdida de prueba: 20.18. Precisión de prueba: 96.05%\n"
     ]
    }
   ],
   "source": [
    "# Si se desea, se puede aplicar un formateo \"bonito\"\n",
    "print('Pérdida de prueba: {0:.2f}. Precisión de prueba: {1:.2f}%'.format(perdida_prueba, precision_prueba * 100.))"
   ]
  },
  {
   "cell_type": "markdown",
   "metadata": {},
   "source": [
    "Utilizando el modelo inicial y los hiperparámetros dados en este notebook, la precisión de prueba final debe ser aproximadamente 97%.\n",
    "\n",
    "Cada vez que se ejecuta el código, se obtiene una precisión diferente debido a la \"barajeada\" de las tandas, los pesos se inicializan en forma diferente, etc.\n",
    "\n",
    "Finalmente, intencionalmente se ha llegado a una solución subóptima, para que puedan tener la oportunidad de mejorarla como ejercicio de laboratorio."
   ]
  },
  {
   "cell_type": "markdown",
   "metadata": {},
   "source": [
    "# Experimentación\n",
    "## Paso a paso para mejorar el modelo "
   ]
  },
  {
   "cell_type": "markdown",
   "metadata": {},
   "source": [
    "## Modificación del Ancho de la Red"
   ]
  },
  {
   "cell_type": "code",
   "execution_count": 29,
   "metadata": {},
   "outputs": [
    {
     "name": "stderr",
     "output_type": "stream",
     "text": [
      "c:\\Users\\Fabi\\Documents\\U\\python_env\\.venv\\Lib\\site-packages\\keras\\src\\layers\\reshaping\\flatten.py:37: UserWarning: Do not pass an `input_shape`/`input_dim` argument to a layer. When using Sequential models, prefer using an `Input(shape)` object as the first layer in the model instead.\n",
      "  super().__init__(**kwargs)\n"
     ]
    },
    {
     "name": "stdout",
     "output_type": "stream",
     "text": [
      "\n",
      "✅ Mejor configuración: 300 neuronas - Accuracy validación: 0.9798 - Accuracy test: 0.9799 - Tiempo: 15.40s\n"
     ]
    }
   ],
   "source": [
    "import time\n",
    "from tensorflow.keras.models import Sequential\n",
    "from tensorflow.keras.layers import Dense, Flatten\n",
    "\n",
    "def build_and_train_model(hidden_units):\n",
    "    model = tf.keras.Sequential([\n",
    "\n",
    "        tf.keras.layers.Flatten(input_shape=(28, 28)), # capa entrada\n",
    "        \n",
    "        tf.keras.layers.Dense(hidden_units, activation='relu'), # 1era capa escondida\n",
    "        tf.keras.layers.Dense(hidden_units, activation='relu'), # 2nda capa escondida\n",
    "\n",
    "        tf.keras.layers.Dense(tamanio_salida, activation='softmax') # capa salida\n",
    "    ])\n",
    "\n",
    "    model.compile(optimizer='adam', loss='sparse_categorical_crossentropy', metrics=['accuracy'])\n",
    "\n",
    "    start_time = time.time()\n",
    "    history = model.fit(datos_entreno, validation_data = datos_validacion, epochs=5, verbose=0)\n",
    "    duration = time.time() - start_time\n",
    "\n",
    "    val_accuracy = history.history['val_accuracy'][-1]\n",
    "    test_loss, test_accuracy = model.evaluate(datos_prueba, verbose=0)\n",
    "    return hidden_units, val_accuracy, test_accuracy, duration\n",
    "\n",
    "# Resultados del experimento de ancho\n",
    "results_width = []\n",
    "\n",
    "# Tamaños de capa escondida\n",
    "sizes = [50, 100, 200, 300, 500]\n",
    "\n",
    "# Obtención de resultados\n",
    "best_result_ms = None\n",
    "best_val_acc = -1\n",
    "for size in sizes:\n",
    "    result = build_and_train_model(size)\n",
    "    results_width.append(result)\n",
    "    if result[1] > best_val_acc:\n",
    "        best_val_acc = result[1]\n",
    "        best_result_ms = result\n",
    "\n",
    "print(f\"\\n✅ Mejor configuración: {best_result_ms[0]} neuronas - Accuracy validación: {best_result_ms[1]:.4f} - Accuracy test: {best_result_ms[2]:.4f} - Tiempo: {best_result_ms[3]:.2f}s\")"
   ]
  },
  {
   "cell_type": "code",
   "execution_count": 30,
   "metadata": {},
   "outputs": [
    {
     "data": {
      "image/png": "[encoded data removed]",
      "text/plain": [
       "<Figure size 1400x500 with 2 Axes>"
      ]
     },
     "metadata": {},
     "output_type": "display_data"
    }
   ],
   "source": [
    "import numpy as np\n",
    "import matplotlib.pyplot as plt\n",
    "\n",
    "# Separar resultados\n",
    "sizes, val_accuracies, test_accuracies, times = zip(*results_width)\n",
    "\n",
    "# Posiciones para las barras\n",
    "x = np.arange(len(sizes))\n",
    "width = 0.35  # ancho de cada barra\n",
    "\n",
    "# Crear figura con 2 subplots\n",
    "fig, axs = plt.subplots(1, 2, figsize=(14, 5))\n",
    "\n",
    "# --- Subplot 1: Accuracy de Validación y Prueba ---\n",
    "axs[0].bar(x - width/2, val_accuracies, width, label='Validación', color='skyblue')\n",
    "axs[0].bar(x + width/2, test_accuracies, width, label='Prueba', color='orange')\n",
    "\n",
    "axs[0].set_xlabel(\"Tamaño de la Capa Oculta\")\n",
    "axs[0].set_ylabel(\"Accuracy\")\n",
    "axs[0].set_title(\"Accuracy de Validación y Prueba\")\n",
    "axs[0].set_xticks(x)\n",
    "axs[0].set_xticklabels(sizes)\n",
    "axs[0].legend()\n",
    "axs[0].grid(axis='y', linestyle='--', alpha=0.6)\n",
    "\n",
    "# --- Subplot 2: Tiempo de Entrenamiento ---\n",
    "axs[1].plot(sizes, times, marker='o', color='red')\n",
    "axs[1].set_title(\"Tiempo de Entrenamiento (s)\")\n",
    "axs[1].set_xlabel(\"Tamaño de la Capa Oculta\")\n",
    "axs[1].set_ylabel(\"Segundos\")\n",
    "axs[1].grid(True, linestyle='--', alpha=0.6)\n",
    "\n",
    "# Ajustar diseño\n",
    "plt.tight_layout()\n",
    "plt.show()\n"
   ]
  },
  {
   "cell_type": "markdown",
   "metadata": {},
   "source": [
    "Para capa de 200 neuronas:\n",
    "* ¿Cómo cambia la precisión de validación del modelo?\n",
    "\n",
    "* ¿Cuánto tiempo tarda el algoritmo en entrenar?\n",
    "\n",
    "Comparación de tamaños:"
   ]
  },
  {
   "cell_type": "markdown",
   "metadata": {},
   "source": [
    "## Modificación de la Profundidad de la Red"
   ]
  },
  {
   "cell_type": "code",
   "execution_count": 31,
   "metadata": {},
   "outputs": [
    {
     "name": "stderr",
     "output_type": "stream",
     "text": [
      "c:\\Users\\Fabi\\Documents\\U\\python_env\\.venv\\Lib\\site-packages\\keras\\src\\layers\\reshaping\\flatten.py:37: UserWarning: Do not pass an `input_shape`/`input_dim` argument to a layer. When using Sequential models, prefer using an `Input(shape)` object as the first layer in the model instead.\n",
      "  super().__init__(**kwargs)\n"
     ]
    },
    {
     "name": "stdout",
     "output_type": "stream",
     "text": [
      "Dimensión pesos: <Flatten name=flatten_25, built=True>\n",
      "Dimensión pesos: <Dense name=dense_88, built=True>\n",
      "Dimensión pesos: <Dense name=dense_89, built=True>\n",
      "Dimensión pesos: <Dense name=dense_90, built=True>\n",
      "Dimensión pesos: <Dense name=dense_91, built=True>\n",
      "Modelo con 3 capas escondidas - Accuracy validación: 0.9728 - Accuracy prueba: 0.9727 - Tiempo: 17.27s\n"
     ]
    }
   ],
   "source": [
    "hidden_size = best_result_ms[0]\n",
    "model = tf.keras.Sequential([\n",
    "    tf.keras.layers.Flatten(input_shape=(28, 28)), # capa entrada\n",
    "    \n",
    "    tf.keras.layers.Dense(hidden_size, activation='relu'), # 1era capa escondida\n",
    "    tf.keras.layers.Dense(hidden_size, activation='relu'), # 2nda capa escondida\n",
    "    tf.keras.layers.Dense(hidden_size, activation='relu'), # capa escondida adicional\n",
    "\n",
    "    tf.keras.layers.Dense(tamanio_salida, activation='softmax') # capa salida\n",
    "])\n",
    "\n",
    "model.compile(optimizer='adam', loss='sparse_categorical_crossentropy', metrics=['accuracy'])\n",
    "\n",
    "start_time = time.time()\n",
    "history = model.fit(datos_entreno, validation_data = datos_validacion, epochs=5, verbose=0)\n",
    "duration = time.time() - start_time\n",
    "\n",
    "val_accuracy = history.history['val_accuracy'][-1]\n",
    "test_loss, test_accuracy = model.evaluate(datos_prueba, verbose=0)\n",
    "\n",
    "for layer in model.layers:\n",
    "    if hasattr(layer, 'weights'):\n",
    "        print(f\"Dimensión pesos: {layer}\")\n",
    "\n",
    "result_three = [val_accuracy, test_accuracy, duration]\n",
    "print(f\"Modelo con 3 capas escondidas - Accuracy validación: {val_accuracy:.4f} - Accuracy prueba: {test_accuracy:.4f} - Tiempo: {duration:.2f}s\")"
   ]
  },
  {
   "cell_type": "markdown",
   "metadata": {},
   "source": [
    "## Redes Profundas"
   ]
  },
  {
   "cell_type": "code",
   "execution_count": 32,
   "metadata": {},
   "outputs": [
    {
     "name": "stdout",
     "output_type": "stream",
     "text": [
      "Capas: 1 - Arquitectura: [300] - Accuracy validación: 0.9752 - Tiempo: 12.88s\n",
      "Capas: 2 - Arquitectura: [200, 100] - Accuracy validación: 0.9763 - Tiempo: 13.15s\n",
      "Capas: 3 - Arquitectura: [300, 200, 100] - Accuracy validación: 0.9757 - Tiempo: 17.01s\n",
      "Capas: 4 - Arquitectura: [500, 250, 100, 50] - Accuracy validación: 0.9759 - Tiempo: 22.73s\n",
      "Capas: 5 - Arquitectura: [500, 350, 250, 100, 50] - Accuracy validación: 0.9761 - Tiempo: 27.09s\n",
      "\n",
      "✅ Mejor configuración: 2 neuronas - Accuracy validación: 0.9763 - Accuracy test: 0.9749 - Tiempo: 13.15s\n"
     ]
    }
   ],
   "source": [
    "def build_very_deep_model(units_per_layer):\n",
    "    model = Sequential([Flatten(input_shape=(28, 28))])\n",
    "    for units in units_per_layer:\n",
    "        model.add(Dense(units, activation='relu'))\n",
    "    model.add(Dense(10, activation='softmax'))\n",
    "    model.compile(optimizer='adam', loss='sparse_categorical_crossentropy', metrics=['accuracy'])\n",
    "\n",
    "    start_time = time.time()\n",
    "    history = model.fit(datos_entreno, validation_data=datos_validacion, epochs=5, verbose=0)\n",
    "    duration = time.time() - start_time\n",
    "    val_accuracy = history.history['val_accuracy'][-1]\n",
    "\n",
    "    test_loss, test_accuracy = model.evaluate(datos_prueba, verbose=0)\n",
    "\n",
    "    print(f\"Capas: {len(units_per_layer)} - Arquitectura: {units_per_layer} - Accuracy validación: {val_accuracy:.4f} - Tiempo: {duration:.2f}s\")\n",
    "    return len(units_per_layer), val_accuracy, test_accuracy, duration\n",
    "\n",
    "architectures = [\n",
    "    [hidden_size],\n",
    "    [200, 100],\n",
    "    [300, 200, 100],\n",
    "    [500, 250, 100, 50],\n",
    "    [500, 350, 250, 100, 50]\n",
    "]\n",
    "\n",
    "# Obtención de resultados\n",
    "best_result_deep = None\n",
    "best_val_acc = -1\n",
    "for arch in architectures:\n",
    "    result = build_very_deep_model(arch)\n",
    "    results_width.append(result)\n",
    "    if result[1] > best_val_acc:\n",
    "        best_val_acc = result[1]\n",
    "        best_result_deep = result\n",
    "print(f\"\\n✅ Mejor configuración: {best_result_deep[0]} neuronas - Accuracy validación: {best_result_deep[1]:.4f} - Accuracy test: {best_result_deep[2]:.4f} - Tiempo: {best_result_deep[3]:.2f}s\")"
   ]
  },
  {
   "cell_type": "markdown",
   "metadata": {},
   "source": [
    "## Funciones de Activación I"
   ]
  },
  {
   "cell_type": "code",
   "execution_count": 33,
   "metadata": {},
   "outputs": [
    {
     "name": "stdout",
     "output_type": "stream",
     "text": [
      "Activaciones sigmoid - Accuracy validación: 0.9591 - Accuracy test: 0.9520 - Tiempo: 10.75s\n"
     ]
    }
   ],
   "source": [
    "model = Sequential([\n",
    "    Flatten(input_shape=(28, 28)),\n",
    "    Dense(100, activation='sigmoid'),\n",
    "    Dense(50, activation='sigmoid'),\n",
    "    Dense(10, activation='softmax')\n",
    "])\n",
    "model.compile(optimizer='adam', loss='sparse_categorical_crossentropy', metrics=['accuracy'])\n",
    "\n",
    "start_time = time.time()\n",
    "history = model.fit(datos_entreno, validation_data=datos_validacion, epochs=5, verbose=0)\n",
    "duration = time.time() - start_time\n",
    "\n",
    "test_loss, test_accuracy = model.evaluate(datos_prueba, verbose=0)\n",
    "val_accuracy = history.history['val_accuracy'][-1]\n",
    "\n",
    "result_sigmoid = [val_accuracy, test_accuracy, duration]\n",
    "print(f\"Activaciones sigmoid - Accuracy validación: {val_accuracy:.4f} - Accuracy test: {test_accuracy:.4f} - Tiempo: {duration:.2f}s\")"
   ]
  },
  {
   "cell_type": "code",
   "execution_count": 34,
   "metadata": {},
   "outputs": [
    {
     "name": "stdout",
     "output_type": "stream",
     "text": [
      "Activaciones sigmoid + capas anteriores - Accuracy validación: 0.9750 - Accuracy test: 0.9768 - Tiempo: 13.32s\n"
     ]
    }
   ],
   "source": [
    "arqui = architectures[best_result_deep[0] - 1]\n",
    "model = Sequential([Flatten(input_shape=(28, 28))])\n",
    "for units in arqui:\n",
    "    model.add(Dense(units, activation='relu'))\n",
    "model.add(Dense(10, activation='softmax'))\n",
    "model.compile(optimizer='adam', loss='sparse_categorical_crossentropy', metrics=['accuracy'])\n",
    "\n",
    "start_time = time.time()\n",
    "history = model.fit(datos_entreno, validation_data=datos_validacion, epochs=5, verbose=0)\n",
    "duration = time.time() - start_time\n",
    "\n",
    "test_loss, test_accuracy = model.evaluate(datos_prueba, verbose=0)\n",
    "val_accuracy = history.history['val_accuracy'][-1]\n",
    "\n",
    "if val_accuracy > result_sigmoid[0]:\n",
    "    result_sigmoid = [val_accuracy, test_accuracy, duration]\n",
    "print(f\"Activaciones sigmoid + capas anteriores - Accuracy validación: {val_accuracy:.4f} - Accuracy test: {test_accuracy:.4f} - Tiempo: {duration:.2f}s\")"
   ]
  },
  {
   "cell_type": "markdown",
   "metadata": {},
   "source": [
    "## Funciones de Activación II"
   ]
  },
  {
   "cell_type": "code",
   "execution_count": 35,
   "metadata": {},
   "outputs": [
    {
     "name": "stdout",
     "output_type": "stream",
     "text": [
      "Activación ReLU + tanh - Accuracy validación: 0.9728 - Accuracy test: 0.9704 - Tiempo: 9.67s\n"
     ]
    }
   ],
   "source": [
    "model = Sequential([\n",
    "    Flatten(input_shape=(28, 28)),\n",
    "    Dense(100, activation='relu'),\n",
    "    Dense(50, activation='tanh'),\n",
    "    Dense(10, activation='softmax')\n",
    "])\n",
    "model.compile(optimizer='adam', loss='sparse_categorical_crossentropy', metrics=['accuracy'])\n",
    "\n",
    "start_time = time.time()\n",
    "history = model.fit(datos_entreno, validation_data=datos_validacion, epochs=5, verbose=0)\n",
    "duration = time.time() - start_time\n",
    "\n",
    "test_loss, test_accuracy = model.evaluate(datos_prueba, verbose=0)\n",
    "val_accuracy = history.history['val_accuracy'][-1]\n",
    "\n",
    "result_relu_tanh = [val_accuracy, test_accuracy, duration]\n",
    "print(f\"Activación ReLU + tanh - Accuracy validación: {val_accuracy:.4f} - Accuracy test: {test_accuracy:.4f} - Tiempo: {duration:.2f}s\")"
   ]
  },
  {
   "cell_type": "markdown",
   "metadata": {},
   "source": [
    "## Comparación de modelos"
   ]
  },
  {
   "cell_type": "code",
   "execution_count": 36,
   "metadata": {},
   "outputs": [
    {
     "data": {
      "image/png": "[encoded data removed]",
      "text/plain": [
       "<Figure size 1400x500 with 2 Axes>"
      ]
     },
     "metadata": {},
     "output_type": "display_data"
    }
   ],
   "source": [
    "\n",
    "# Lista de resultados de modelos en forma [val_acc, test_acc, tiempo]\n",
    "result_sets = [best_result_ms[1:], result_three, best_result_deep[1:], result_sigmoid, result_relu_tanh]\n",
    "\n",
    "# Nombres para los modelos (puedes personalizarlos)\n",
    "model_names = ['Modificacion de ancho', 'Tres Capas', 'Profundidad', 'Sigmoid', 'ReLU-Tanh']\n",
    "\n",
    "# Separar métricas\n",
    "val_accuracies = [res[0] for res in result_sets]\n",
    "test_accuracies = [res[1] for res in result_sets]\n",
    "times = [res[2] for res in result_sets]\n",
    "\n",
    "# Posiciones para las barras\n",
    "x = np.arange(len(model_names))\n",
    "width = 0.35\n",
    "\n",
    "# Crear figura con 2 subplots\n",
    "fig, axs = plt.subplots(1, 2, figsize=(14, 5))\n",
    "\n",
    "# --- Subplot 1: Accuracy de Validación y Prueba ---\n",
    "axs[0].bar(x - width/2, val_accuracies, width, label='Validación', color='skyblue')\n",
    "axs[0].bar(x + width/2, test_accuracies, width, label='Prueba', color='orange')\n",
    "\n",
    "axs[0].set_xlabel(\"Modelos\")\n",
    "axs[0].set_ylabel(\"Accuracy\")\n",
    "axs[0].set_title(\"Accuracy de Validación y Prueba por Modelo\")\n",
    "axs[0].set_xticks(x)\n",
    "axs[0].set_xticklabels(model_names, rotation=20)\n",
    "axs[0].legend()\n",
    "axs[0].grid(axis='y', linestyle='--', alpha=0.6)\n",
    "\n",
    "# --- Subplot 2: Tiempo de Entrenamiento ---\n",
    "axs[1].plot(x, times, marker='o', color='red')\n",
    "axs[1].set_title(\"Tiempo de Entrenamiento (s)\")\n",
    "axs[1].set_xlabel(\"Modelos\")\n",
    "axs[1].set_ylabel(\"Segundos\")\n",
    "axs[1].set_xticks(x)\n",
    "axs[1].set_xticklabels(model_names, rotation=20)\n",
    "axs[1].grid(True, linestyle='--', alpha=0.6)\n",
    "\n",
    "# Ajustar diseño\n",
    "plt.tight_layout()\n",
    "plt.show()"
   ]
  }
 ],
 "metadata": {
  "kernelspec": {
   "display_name": "Python (venv)",
   "language": "python",
   "name": "venv"
  },
  "language_info": {
   "codemirror_mode": {
    "name": "ipython",
    "version": 3
   },
   "file_extension": ".py",
   "mimetype": "text/x-python",
   "name": "python",
   "nbconvert_exporter": "python",
   "pygments_lexer": "ipython3",
   "version": "3.12.5"
  }
 },
 "nbformat": 4,
 "nbformat_minor": 4
}
